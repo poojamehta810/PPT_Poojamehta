{
  "nbformat": 4,
  "nbformat_minor": 0,
  "metadata": {
    "colab": {
      "provenance": []
    },
    "kernelspec": {
      "name": "python3",
      "display_name": "Python 3"
    },
    "language_info": {
      "name": "python"
    }
  },
  "cells": [
    {
      "cell_type": "markdown",
      "source": [
        "**Question -1 **\n",
        "Move Zeroes\n",
        "Given an integer array nums, move all 0's to the end of it while maintaining the relative order of the non-zero elements.\n",
        "\n",
        "Note that you must do this in-place without making a copy of the array.\n",
        "\n",
        "Example 1:\n",
        "Input: nums = [0,1,0,3,12]\n",
        "Output: [1,3,12,0,0]\n",
        "\n",
        "Example 2:\n",
        "Input: nums = [0]\n",
        "Output: [0]\n",
        "\n",
        "Constraints:\n",
        "a. 1 <= nums.length <= 10^4\n",
        "\n",
        "b. -2^31 <= nums[i] <= 2^31 - 1\n"
      ],
      "metadata": {
        "id": "6uoUaUwFMRmg"
      }
    },
    {
      "cell_type": "code",
      "execution_count": 9,
      "metadata": {
        "colab": {
          "base_uri": "https://localhost:8080/"
        },
        "id": "xIXD10USMQfN",
        "outputId": "9b33236d-c25f-4041-e0dc-f94ee4897fdb"
      },
      "outputs": [
        {
          "output_type": "stream",
          "name": "stdout",
          "text": [
            "[1, 3, 12, 0, 0]\n",
            "[1, 5, 4, 3, 9, 18, 25, 0, 0]\n"
          ]
        }
      ],
      "source": [
        "\n",
        "\n",
        "def movinzeroes(nums):\n",
        "    non_zero_indexing = 0\n",
        "\n",
        "    # Iterate through the array\n",
        "    for i in range(len(nums)):\n",
        "        if nums[i] != 0:\n",
        "            # Move non-zero element to the non_zero_index position\n",
        "            nums[non_zero_indexing] = nums[i]\n",
        "            non_zero_indexing += 1\n",
        "\n",
        "    # Fill the remaining positions with zeros\n",
        "    while non_zero_indexing < len(nums):\n",
        "        nums[non_zero_indexing] = 0\n",
        "        non_zero_indexing += 1\n",
        "\n",
        "    return nums\n",
        "\n",
        "# Example usage\n",
        "nums = [0,1,0,3,12]\n",
        "ans = movinzeroes(nums)\n",
        "print(ans) \n",
        "\n",
        "nums = [1,5,4,3,9, 0, 18, 0, 25]\n",
        "ans = movinzeroes(nums)\n",
        "print(ans)  "
      ]
    },
    {
      "cell_type": "markdown",
      "source": [
        "First Unique Character in a String\n",
        "\n",
        "Given a string s, find the first non-repeating character in it and return its index. If it does not exist, return -1.\n",
        "\n",
        "Example 1:\n",
        "Input: s = \"leetcode\"\n",
        "Output: 0\n",
        "\n",
        "Example 2:\n",
        "Input: s = \"loveleetcode\"\n",
        "Output: 2\n",
        "\n",
        "Example 3:\n",
        "Input: s = \"aabb\"\n",
        "Output: -1\n",
        "\n",
        "Constraints:\n",
        "a. 1 <= s.length <= 10^5\n",
        "b. s consists of only lowercase English letters.\n"
      ],
      "metadata": {
        "id": "WIychcugNRTa"
      }
    },
    {
      "cell_type": "code",
      "source": [
        "def firstUniqChar(s):\n",
        "    char_count = {}\n",
        "\n",
        "    # Count the occurrences of each char\n",
        "    for char in s:\n",
        "        char_count[char] = char_count.get(char, 0) + 1\n",
        "\n",
        "    # Find the first non-repeating character and return its index\n",
        "    for i, char in enumerate(s):\n",
        "        if char_count[char] == 1:\n",
        "            return i\n",
        "\n",
        "    # If no non-repeating character is found, return -1\n",
        "    return -1\n",
        "\n",
        "\n",
        "s = \"leetcode\"\n",
        "result = firstUniqChar(s)\n",
        "print(s,result)  \n",
        "\n",
        "s = \"loveleetcode\"\n",
        "result = firstUniqChar(s)\n",
        "print(s,result)  \n",
        "\n",
        "s = \"aabccdd\"\n",
        "result = firstUniqChar(s)\n",
        "print(s,result)  "
      ],
      "metadata": {
        "colab": {
          "base_uri": "https://localhost:8080/"
        },
        "id": "-CDZYKFUNUq4",
        "outputId": "f33c01df-399c-4035-e731-09b438486a91"
      },
      "execution_count": 4,
      "outputs": [
        {
          "output_type": "stream",
          "name": "stdout",
          "text": [
            "leetcode 0\n",
            "loveleetcode 2\n",
            "aabccdd 2\n"
          ]
        }
      ]
    }
  ]
}