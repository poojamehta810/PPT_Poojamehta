{
  "nbformat": 4,
  "nbformat_minor": 0,
  "metadata": {
    "colab": {
      "provenance": []
    },
    "kernelspec": {
      "name": "python3",
      "display_name": "Python 3"
    },
    "language_info": {
      "name": "python"
    }
  },
  "cells": [
    {
      "cell_type": "markdown",
      "source": [
        "1 Scenario: A company wants to analyze the sales performance of its products in different regions. They have collected the following data:\n",
        "   Region A: [10, 15, 12, 8, 14]\n",
        "   Region B: [18, 20, 16, 22, 25]\n",
        "   Calculate the mean sales for each region.\n"
      ],
      "metadata": {
        "id": "Gt0Yjo8nfjdL"
      }
    },
    {
      "cell_type": "markdown",
      "source": [
        "For Region A:\n",
        "Sales data: [10, 15, 12, 8, 14]\n",
        "Mean sales = (10 + 15 + 12 + 8 + 14) / 5\n",
        "Mean sales = 59 / 5\n",
        "Mean sales = 11.8\n",
        "\n",
        "For Region B:\n",
        "Sales data: [18, 20, 16, 22, 25]\n",
        "Mean sales = (18 + 20 + 16 + 22 + 25) / 5\n",
        "Mean sales = 101 / 5\n",
        "Mean sales = 20.2\n",
        "\n",
        "So, the mean for Region A is 11.8 and for Region B is 20.2."
      ],
      "metadata": {
        "id": "b4bzSNPofyR7"
      }
    },
    {
      "cell_type": "markdown",
      "source": [
        "2 Scenario: A survey is conducted to measure customer satisfaction on a scale of 1 to 5. The data collected is as follows:\n",
        "   [4, 5, 2, 3, 5, 4, 3, 2, 4, 5]\n",
        "   Calculate the mode of the survey responses.\n"
      ],
      "metadata": {
        "id": "MTuavsonf9AC"
      }
    },
    {
      "cell_type": "markdown",
      "source": [
        "The value 2 appears 2 times.\n",
        "The value 3 appears 2 times.\n",
        "The value 4 appears 3 times.\n",
        "The value 5 appears 3 times.\n",
        "the mode of the survey responses is 4 and 5."
      ],
      "metadata": {
        "id": "ID5XXGgKgHXT"
      }
    },
    {
      "cell_type": "markdown",
      "source": [
        "3 Scenario: A company wants to compare the salaries of two departments. The salary data for Department A and Department B are as follows:\n",
        "   Department A: [5000, 6000, 5500, 7000]\n",
        "   Department B: [4500, 5500, 5800, 6000, 5200]\n",
        "   Calculate the median salary for each department.\n"
      ],
      "metadata": {
        "id": "nex9c4HqgL6x"
      }
    },
    {
      "cell_type": "markdown",
      "source": [
        "For Department A:\n",
        "Salary data: [5000, 6000, 5500, 7000]\n",
        "Arranging in ascending order: [5000, 5500, 6000, 7000]\n",
        " the dataset has an even number of values (4), the median is the average of the two middle values that is [5500] .\n",
        "\n",
        "So, the median salary for Department A is 5500.\n",
        "\n",
        "For Department B:\n",
        "Salary data: [4500, 5500, 5800, 6000, 5200]\n",
        "Arranging in ascending order: [4500, 5200, 5500, 5800, 6000]\n",
        "the dataset has an odd number of values (5), the median is the middle value, which is the third value (5500)."
      ],
      "metadata": {
        "id": "SeudtA1-gauh"
      }
    },
    {
      "cell_type": "markdown",
      "source": [
        "4. Scenario: A data analyst wants to determine the variability in the daily stock prices of a company. The data collected is as follows:\n",
        "   [25.5, 24.8, 26.1, 25.3, 24.9]\n",
        "   Calculate the range of the stock prices.\n"
      ],
      "metadata": {
        "id": "L9rMjHVtg0Jg"
      }
    },
    {
      "cell_type": "markdown",
      "source": [
        "Stock prices data: [25.5, 24.8, 26.1, 25.3, 24.9]\n",
        "\n",
        "Step 1: Find the highest value (maximum)\n",
        "Highest value = 26.1\n",
        "\n",
        "Step 2: Find the lowest value (minimum)\n",
        "Lowest value = 24.8\n",
        "\n",
        "Step 3: Calculate the range\n",
        "Range = Highest value - Lowest value\n",
        "Range = 26.1 - 24.8\n",
        "Range = 1.3\n",
        "\n",
        "The range of the stock prices is 1.3."
      ],
      "metadata": {
        "id": "WejMxyx0hxDx"
      }
    },
    {
      "cell_type": "markdown",
      "source": [
        "5. Scenario: A study is conducted to compare the performance of two different teaching methods. The test scores of the students in each group are as follows:\n",
        "   Group A: [85, 90, 92, 88, 91]\n",
        "   Group B: [82, 88, 90, 86, 87]\n",
        "   Perform a t-test to determine if there is a significant difference in the mean scores between the two groups.\n",
        "\n"
      ],
      "metadata": {
        "id": "6lTOHOm5h0wJ"
      }
    },
    {
      "cell_type": "code",
      "source": [
        "import numpy as np\n",
        "from scipy.stats import ttest_ind\n",
        "\n",
        "# Test scores for Group A and Group B\n",
        "group_a_scores = [85, 90, 92, 88, 91]\n",
        "group_b_scores = [82, 88, 90, 86, 87]\n",
        "\n",
        "# Perform the t-test\n",
        "t_statistic, p_value = ttest_ind(group_a_scores, group_b_scores)\n",
        "\n",
        "# Define the significance level (alpha)\n",
        "alpha = 0.05\n",
        "\n",
        "# Print the results\n",
        "print(\"T-Statistic:\", t_statistic)\n",
        "print(\"P-Value:\", p_value)\n",
        "\n",
        "if p_value < alpha:\n",
        "    print(\"There is a significant difference in the mean scores between the two groups.\")\n",
        "else:\n",
        "    print(\"There is no significant difference in the mean scores between the two groups.\")\n"
      ],
      "metadata": {
        "colab": {
          "base_uri": "https://localhost:8080/"
        },
        "id": "E7h5CymTktyb",
        "outputId": "497a412c-64f5-4290-dd49-2b4fe7b25d41"
      },
      "execution_count": 1,
      "outputs": [
        {
          "output_type": "stream",
          "name": "stdout",
          "text": [
            "T-Statistic: 1.4312528946642733\n",
            "P-Value: 0.19023970239078333\n",
            "There is no significant difference in the mean scores between the two groups.\n"
          ]
        }
      ]
    },
    {
      "cell_type": "markdown",
      "source": [
        "6. Scenario: A company wants to analyze the relationship between advertising expenditure and sales. The data collected is as follows:\n",
        "   Advertising Expenditure (in thousands): [10, 15, 12, 8, 14]\n",
        "   Sales (in thousands): [25, 30, 28, 20, 26]\n",
        "   Calculate the correlation coefficient between advertising expenditure and sales.\n"
      ],
      "metadata": {
        "id": "zMMkj9Jzk4LI"
      }
    },
    {
      "cell_type": "code",
      "source": [
        "import numpy as np\n",
        "\n",
        "# Advertising Expenditure data and Sales data\n",
        "advertising_expenditure = np.array([10, 15, 12, 8, 14])\n",
        "sales = np.array([25, 30, 28, 20, 26])\n",
        "\n",
        "# Calculate the correlation coefficient\n",
        "correlation_coefficient = np.corrcoef(advertising_expenditure, sales)[0, 1]\n",
        "\n",
        "print(\"Correlation Coefficient:\", correlation_coefficient)\n"
      ],
      "metadata": {
        "colab": {
          "base_uri": "https://localhost:8080/"
        },
        "id": "ot3OpXaRlCn3",
        "outputId": "a0009bcf-dd8c-4c55-f959-71cbb94634b8"
      },
      "execution_count": 2,
      "outputs": [
        {
          "output_type": "stream",
          "name": "stdout",
          "text": [
            "Correlation Coefficient: 0.8757511375750132\n"
          ]
        }
      ]
    },
    {
      "cell_type": "markdown",
      "source": [
        "7. Scenario: A survey is conducted to measure the heights of a group of people. The data collected is as follows:\n",
        "   [160, 170, 165, 155, 175, 180, 170]\n",
        "   Calculate the standard deviation of the heights.\n"
      ],
      "metadata": {
        "id": "TmLdwYBalKUm"
      }
    },
    {
      "cell_type": "code",
      "source": [
        "import numpy as np\n",
        "\n",
        "# Heights data\n",
        "heights = np.array([160, 170, 165, 155, 175, 180, 170])\n",
        "\n",
        "# Calculate the mean of the heights\n",
        "mean_height = np.mean(heights)\n",
        "\n",
        "# Find the squared difference between each height and the mean\n",
        "squared_diff = (heights - mean_height) ** 2\n",
        "\n",
        "# Step 3: Calculate the mean of the squared differences\n",
        "mean_squared_diff = np.mean(squared_diff)\n",
        "\n",
        "# Step 4: Take the square root of the mean\n",
        "standard_deviation = np.sqrt(mean_squared_diff)\n",
        "\n",
        "print(\"Standard Deviation of Heights:\", standard_deviation)\n"
      ],
      "metadata": {
        "colab": {
          "base_uri": "https://localhost:8080/"
        },
        "id": "2VuoXogIlK-W",
        "outputId": "cbb9952e-e717-41e5-a750-3d91897cbddf"
      },
      "execution_count": 3,
      "outputs": [
        {
          "output_type": "stream",
          "name": "stdout",
          "text": [
            "Standard Deviation of Heights: 7.953949089757174\n"
          ]
        }
      ]
    },
    {
      "cell_type": "markdown",
      "source": [
        "8. Scenario: A company wants to analyze the relationship between employee tenure and job satisfaction. The data collected is as follows:\n",
        "   Employee Tenure (in years): [2, 3, 5, 4, 6, 2, 4]\n",
        "   Job Satisfaction (on a scale of 1 to 10): [7, 8, 6, 9, 5, 7, 6]\n",
        "   Perform a linear regression analysis to predict job satisfaction based on employee tenure.\n"
      ],
      "metadata": {
        "id": "0EIoavchlbdZ"
      }
    },
    {
      "cell_type": "code",
      "source": [
        "import numpy as np\n",
        "from scipy.stats import linregress\n",
        "\n",
        "# Employee Tenure (in years) and Job Satisfaction data\n",
        "employee_tenure = np.array([2, 3, 5, 4, 6, 2, 4])\n",
        "job_satisfaction = np.array([7, 8, 6, 9, 5, 7, 6])\n",
        "\n",
        "# Perform linear regression analysis\n",
        "slope, intercept, r_value, p_value, std_err = linregress(employee_tenure, job_satisfaction)\n",
        "\n",
        "# Print the results\n",
        "print(\"Slope (Coefficient):\", slope)\n",
        "print(\"Intercept:\", intercept)\n",
        "print(\"R-squared value:\", r_value**2)\n",
        "print(\"P-value:\", p_value)\n",
        "print(\"Standard Error:\", std_err)\n"
      ],
      "metadata": {
        "colab": {
          "base_uri": "https://localhost:8080/"
        },
        "id": "vVjF1QZ6lpsH",
        "outputId": "4319c170-e897-4525-c37b-6cd43c0da0b0"
      },
      "execution_count": 4,
      "outputs": [
        {
          "output_type": "stream",
          "name": "stdout",
          "text": [
            "Slope (Coefficient): -0.4680851063829787\n",
            "Intercept: 8.595744680851062\n",
            "R-squared value: 0.27099664053751393\n",
            "P-value: 0.23095550952297988\n",
            "Standard Error: 0.34333860006713723\n"
          ]
        }
      ]
    },
    {
      "cell_type": "markdown",
      "source": [
        "9. Scenario: A study is conducted to compare the effectiveness of two different medications. The recovery times of the patients in each group are as follows:\n",
        "   Medication A: [10, 12, 14, 11, 13]\n",
        "   Medication B: [15, 17, 16, 14, 18]\n",
        "   Perform an analysis of variance (ANOVA) to determine if there is a significant difference in the mean recovery times between the two medications.\n"
      ],
      "metadata": {
        "id": "DHo3DyAklz8O"
      }
    },
    {
      "cell_type": "code",
      "source": [
        "import numpy as np\n",
        "from scipy.stats import f_oneway\n",
        "\n",
        "# Recovery times for Medication A and Medication B\n",
        "medication_a_recovery = np.array([10, 12, 14, 11, 13])\n",
        "medication_b_recovery = np.array([15, 17, 16, 14, 18])\n",
        "\n",
        "# Perform the ANOVA test\n",
        "f_statistic, p_value = f_oneway(medication_a_recovery, medication_b_recovery)\n",
        "\n",
        "# Define the significance level (alpha)\n",
        "alpha = 0.05\n",
        "\n",
        "# Print the results\n",
        "print(\"F-Statistic:\", f_statistic)\n",
        "print(\"P-Value:\", p_value)\n",
        "\n",
        "if p_value < alpha:\n",
        "    print(\"There is a significant difference in the mean recovery times between the two medications.\")\n",
        "else:\n",
        "    print(\"There is no significant difference in the mean recovery times between the two medications.\")\n"
      ],
      "metadata": {
        "colab": {
          "base_uri": "https://localhost:8080/"
        },
        "id": "tvjslmr5l163",
        "outputId": "01b3720d-1ca2-44d9-8265-26c8f719a90f"
      },
      "execution_count": 5,
      "outputs": [
        {
          "output_type": "stream",
          "name": "stdout",
          "text": [
            "F-Statistic: 16.0\n",
            "P-Value: 0.003949772803445326\n",
            "There is a significant difference in the mean recovery times between the two medications.\n"
          ]
        }
      ]
    },
    {
      "cell_type": "markdown",
      "source": [
        "10. Scenario: A company wants to analyze customer feedback ratings on a scale of 1 to 10. The data collected is\n",
        "\n",
        " as follows:\n",
        "    [8, 9, 7, 6, 8, 10, 9, 8, 7, 8]\n",
        "    Calculate the 75th percentile of the feedback ratings.\n"
      ],
      "metadata": {
        "id": "roN2yUBNmCF2"
      }
    },
    {
      "cell_type": "code",
      "source": [
        "import numpy as np\n",
        "\n",
        "# Customer feedback ratings data\n",
        "feedback_ratings = np.array([8, 9, 7, 6, 8, 10, 9, 8, 7, 8])\n",
        "\n",
        "# Calculate the 75th percentile\n",
        "percentile_75 = np.percentile(feedback_ratings, 75)\n",
        "\n",
        "print(\"75th Percentile of Feedback Ratings:\", percentile_75)\n"
      ],
      "metadata": {
        "colab": {
          "base_uri": "https://localhost:8080/"
        },
        "id": "_JG-J-phmUmm",
        "outputId": "958407af-c3a0-45d0-c5ee-8da74b8e37b6"
      },
      "execution_count": 6,
      "outputs": [
        {
          "output_type": "stream",
          "name": "stdout",
          "text": [
            "75th Percentile of Feedback Ratings: 8.75\n"
          ]
        }
      ]
    },
    {
      "cell_type": "markdown",
      "source": [
        "11. Scenario: A quality control department wants to test the weight consistency of a product. The weights of a sample of products are as follows:\n",
        "    [10.2, 9.8, 10.0, 10.5, 10.3, 10.1]\n",
        "    Perform a hypothesis test to determine if the mean weight differs significantly from 10 grams.\n"
      ],
      "metadata": {
        "id": "gsUey8cYmabu"
      }
    },
    {
      "cell_type": "code",
      "source": [
        "import numpy as np\n",
        "from scipy.stats import ttest_1samp\n",
        "\n",
        "# Weight data\n",
        "weights = np.array([10.2, 9.8, 10.0, 10.5, 10.3, 10.1])\n",
        "\n",
        "# Hypothesized population mean\n",
        "hypothesized_mean = 10\n",
        "\n",
        "# Perform the one-sample t-test\n",
        "t_statistic, p_value = ttest_1samp(weights, hypothesized_mean)\n",
        "\n",
        "# Define the significance level (alpha)\n",
        "alpha = 0.05\n",
        "\n",
        "# Print the results\n",
        "print(\"T-Statistic:\", t_statistic)\n",
        "print(\"P-Value:\", p_value)\n",
        "\n",
        "if p_value < alpha:\n",
        "    print(\"The mean weight differs significantly from 10 grams.\")\n",
        "else:\n",
        "    print(\"The mean weight does not differ significantly from 10 grams.\")\n"
      ],
      "metadata": {
        "colab": {
          "base_uri": "https://localhost:8080/"
        },
        "id": "qAhFXOk-m-2_",
        "outputId": "702ed266-9e77-4bac-a335-4ee49225c99b"
      },
      "execution_count": 7,
      "outputs": [
        {
          "output_type": "stream",
          "name": "stdout",
          "text": [
            "T-Statistic: 1.5126584522688367\n",
            "P-Value: 0.19077595151110102\n",
            "The mean weight does not differ significantly from 10 grams.\n"
          ]
        }
      ]
    },
    {
      "cell_type": "markdown",
      "source": [
        "12. Scenario: A company wants to analyze the click-through rates of two different website designs. The number of clicks for each design is as follows:\n",
        "    Design A: [100, 120, 110, 90, 95]\n",
        "    Design B: [80, 85, 90, 95, 100]\n",
        "    Perform a chi-square test to determine if there is a significant difference in the click-through rates between the two designs.\n"
      ],
      "metadata": {
        "id": "VZ8Yea4hnLzu"
      }
    },
    {
      "cell_type": "code",
      "source": [
        "import numpy as np\n",
        "from scipy.stats import chi2_contingency\n",
        "\n",
        "# Click-through rates for Design A and Design B\n",
        "design_a_clicks = np.array([100, 120, 110, 90, 95])\n",
        "design_b_clicks = np.array([80, 85, 90, 95, 100])\n",
        "\n",
        "# Create a contingency table\n",
        "contingency_table = np.array([design_a_clicks, design_b_clicks])\n",
        "\n",
        "# Perform the chi-square test\n",
        "chi2_stat, p_value, dof, expected = chi2_contingency(contingency_table)\n",
        "\n",
        "# Define the significance level (alpha)\n",
        "alpha = 0.05\n",
        "\n",
        "# Print the results\n",
        "print(\"Chi-Square Statistic:\", chi2_stat)\n",
        "print(\"P-Value:\", p_value)\n",
        "\n",
        "if p_value < alpha:\n",
        "    print(\"There is a significant difference in the click-through rates between the two designs.\")\n",
        "else:\n",
        "    print(\"There is no significant difference in the click-through rates between the two designs.\")\n"
      ],
      "metadata": {
        "colab": {
          "base_uri": "https://localhost:8080/"
        },
        "id": "TKF-o--gnXRH",
        "outputId": "da2482d4-5023-4b5d-d0f4-71b53f0edfce"
      },
      "execution_count": 8,
      "outputs": [
        {
          "output_type": "stream",
          "name": "stdout",
          "text": [
            "Chi-Square Statistic: 6.110658166925435\n",
            "P-Value: 0.19103526314060293\n",
            "There is no significant difference in the click-through rates between the two designs.\n"
          ]
        }
      ]
    },
    {
      "cell_type": "markdown",
      "source": [
        "13. Scenario: A survey is conducted to measure customer satisfaction with a product on a scale of 1 to 10. The data collected is as follows:\n",
        "    [7, 9, 6, 8, 10, 7, 8, 9, 7, 8]\n",
        "    Calculate the 95% confidence interval for the population mean satisfaction score.\n"
      ],
      "metadata": {
        "id": "b0DvGS81ndp1"
      }
    },
    {
      "cell_type": "code",
      "source": [
        "import numpy as np\n",
        "from scipy.stats import t\n",
        "\n",
        "# Customer satisfaction data\n",
        "satisfaction_scores = np.array([7, 9, 6, 8, 10, 7, 8, 9, 7, 8])\n",
        "\n",
        "# Sample mean and sample standard deviation\n",
        "sample_mean = np.mean(satisfaction_scores)\n",
        "sample_std = np.std(satisfaction_scores, ddof=1)\n",
        "\n",
        "# Sample size\n",
        "sample_size = len(satisfaction_scores)\n",
        "\n",
        "# Degrees of freedom\n",
        "degrees_of_freedom = sample_size - 1\n",
        "\n",
        "# Confidence level (1 - alpha)\n",
        "confidence_level = 0.95\n",
        "\n",
        "# Calculate the t-critical value\n",
        "t_critical = t.ppf(confidence_level + (1 - confidence_level) / 2, df=degrees_of_freedom)\n",
        "\n",
        "# Calculate the standard error\n",
        "standard_error = sample_std / np.sqrt(sample_size)\n",
        "\n",
        "# Calculate the confidence interval\n",
        "lower_bound = sample_mean - t_critical * standard_error\n",
        "upper_bound = sample_mean + t_critical * standard_error\n",
        "\n",
        "print(\"95% Confidence Interval:\", (lower_bound, upper_bound))\n"
      ],
      "metadata": {
        "colab": {
          "base_uri": "https://localhost:8080/"
        },
        "id": "Ok9u6OASnmKd",
        "outputId": "8aee734d-5a3d-4882-c861-285cebb1e881"
      },
      "execution_count": 9,
      "outputs": [
        {
          "output_type": "stream",
          "name": "stdout",
          "text": [
            "95% Confidence Interval: (7.043561120599888, 8.756438879400113)\n"
          ]
        }
      ]
    },
    {
      "cell_type": "markdown",
      "source": [
        "14. Scenario: A company wants to analyze the effect of temperature on product performance. The data collected is as follows:\n",
        "    Temperature (in degrees Celsius): [20, 22, 23, 19, 21]\n",
        "    Performance (on a scale of 1 to 10): [8, 7, 9, 6, 8]\n",
        "    Perform a simple linear regression to predict performance based on temperature.\n"
      ],
      "metadata": {
        "id": "OhxnBPDcnqwu"
      }
    },
    {
      "cell_type": "code",
      "source": [
        "import numpy as np\n",
        "from scipy.stats import linregress\n",
        "\n",
        "# Temperature (in degrees Celsius) and Performance data\n",
        "temperature = np.array([20, 22, 23, 19, 21])\n",
        "performance = np.array([8, 7, 9, 6, 8])\n",
        "\n",
        "# Perform linear regression analysis\n",
        "slope, intercept, r_value, p_value, std_err = linregress(temperature, performance)\n",
        "\n",
        "# Print the results\n",
        "print(\"Slope (Coefficient):\", slope)\n",
        "print(\"Intercept:\", intercept)\n",
        "print(\"R-squared value:\", r_value**2)\n",
        "print(\"P-value:\", p_value)\n",
        "print(\"Standard Error:\", std_err)\n"
      ],
      "metadata": {
        "colab": {
          "base_uri": "https://localhost:8080/"
        },
        "id": "yTnoTxMyntPf",
        "outputId": "c565f2a5-75d3-4058-81d8-15930156e16d"
      },
      "execution_count": 10,
      "outputs": [
        {
          "output_type": "stream",
          "name": "stdout",
          "text": [
            "Slope (Coefficient): 0.5\n",
            "Intercept: -2.9000000000000004\n",
            "R-squared value: 0.4807692307692307\n",
            "P-value: 0.19417134561205843\n",
            "Standard Error: 0.30000000000000004\n"
          ]
        }
      ]
    },
    {
      "cell_type": "markdown",
      "source": [
        "15. Scenario: A study is conducted to compare the preferences of two groups of participants. The preferences are measured on a Likert scale from 1 to 5. The data collected is as follows:\n",
        "    Group A: [4, 3, 5, 2, 4]\n",
        "    Group B: [3, 2, 4, 3, 3]\n",
        "    Perform a Mann-Whitney U test to determine if there is a significant difference in the median preferences between the two groups.\n"
      ],
      "metadata": {
        "id": "UYyJoDXun4oF"
      }
    },
    {
      "cell_type": "code",
      "source": [
        "import numpy as np\n",
        "from scipy.stats import mannwhitneyu\n",
        "\n",
        "# Preferences data for Group A and Group B\n",
        "group_a_preferences = np.array([4, 3, 5, 2, 4])\n",
        "group_b_preferences = np.array([3, 2, 4, 3, 3])\n",
        "\n",
        "# Perform the Mann-Whitney U test\n",
        "u_statistic, p_value = mannwhitneyu(group_a_preferences, group_b_preferences)\n",
        "\n",
        "# Define the significance level (alpha)\n",
        "alpha = 0.05\n",
        "\n",
        "# Print the results\n",
        "print(\"Mann-Whitney U Statistic:\", u_statistic)\n",
        "print(\"P-Value:\", p_value)\n",
        "\n",
        "if p_value < alpha:\n",
        "    print(\"There is a significant difference in the median preferences between the two groups.\")\n",
        "else:\n",
        "    print(\"There is no significant difference in the median preferences between the two groups.\")\n"
      ],
      "metadata": {
        "colab": {
          "base_uri": "https://localhost:8080/"
        },
        "id": "1TfyMq_boWKn",
        "outputId": "65a8f446-95d0-4d4c-c14e-d9029c3e06ac"
      },
      "execution_count": 11,
      "outputs": [
        {
          "output_type": "stream",
          "name": "stdout",
          "text": [
            "Mann-Whitney U Statistic: 17.0\n",
            "P-Value: 0.380836480306712\n",
            "There is no significant difference in the median preferences between the two groups.\n"
          ]
        }
      ]
    },
    {
      "cell_type": "markdown",
      "source": [
        "16. Scenario: A company wants to analyze the distribution of customer ages. The data collected is as follows:\n",
        "    [25, 30, 35, 40, 45, 50, 55, 60, 65, 70]\n",
        "    Calculate the interquartile range (IQR) of the ages.\n"
      ],
      "metadata": {
        "id": "mSMMZxMwoZLe"
      }
    },
    {
      "cell_type": "code",
      "source": [
        "import numpy as np\n",
        "\n",
        "# Customer ages data\n",
        "ages = np.array([25, 30, 35, 40, 45, 50, 55, 60, 65, 70])\n",
        "\n",
        "# Calculate the first quartile (Q1)\n",
        "q1 = np.percentile(ages, 25)\n",
        "\n",
        "# Calculate the third quartile (Q3)\n",
        "q3 = np.percentile(ages, 75)\n",
        "\n",
        "# Calculate the interquartile range (IQR)\n",
        "iqr = q3 - q1\n",
        "\n",
        "print(\"Interquartile Range (IQR) of Ages:\", iqr)\n"
      ],
      "metadata": {
        "colab": {
          "base_uri": "https://localhost:8080/"
        },
        "id": "g4u8J8o-obi1",
        "outputId": "278b7b92-be2a-4eb5-94d9-d74260e753ab"
      },
      "execution_count": 12,
      "outputs": [
        {
          "output_type": "stream",
          "name": "stdout",
          "text": [
            "Interquartile Range (IQR) of Ages: 22.5\n"
          ]
        }
      ]
    },
    {
      "cell_type": "markdown",
      "source": [
        "17. Scenario: A study is conducted to compare the performance of three different machine learning algorithms. The accuracy scores for each algorithm are as follows:\n",
        "    Algorithm A: [0.85, 0.80, 0.82, 0.87, 0.83]\n",
        "    Algorithm B: [0.78, 0.82, 0.84, 0.80, 0.79]\n",
        "    Algorithm C: [0.90, 0.88, 0.89, 0.86, 0.87]\n",
        "    Perform a Kruskal-Wallis test to determine if there is a significant difference in the median accuracy scores between the algorithms.\n"
      ],
      "metadata": {
        "id": "Sn_ndKLYpMNV"
      }
    },
    {
      "cell_type": "code",
      "source": [
        "import numpy as np\n",
        "from scipy.stats import kruskal\n",
        "\n",
        "# Accuracy scores data for each algorithm\n",
        "algorithm_a_scores = np.array([0.85, 0.80, 0.82, 0.87, 0.83])\n",
        "algorithm_b_scores = np.array([0.78, 0.82, 0.84, 0.80, 0.79])\n",
        "algorithm_c_scores = np.array([0.90, 0.88, 0.89, 0.86, 0.87])\n",
        "\n",
        "# Perform the Kruskal-Wallis test\n",
        "h_statistic, p_value = kruskal(algorithm_a_scores, algorithm_b_scores, algorithm_c_scores)\n",
        "\n",
        "# Define the significance level (alpha)\n",
        "alpha = 0.05\n",
        "\n",
        "# Print the results\n",
        "print(\"Kruskal-Wallis H-Statistic:\", h_statistic)\n",
        "print(\"P-Value:\", p_value)\n",
        "\n",
        "if p_value < alpha:\n",
        "    print(\"There is a significant difference in the median accuracy scores between the algorithms.\")\n",
        "else:\n",
        "    print(\"There is no significant difference in the median accuracy scores between the algorithms.\")\n"
      ],
      "metadata": {
        "colab": {
          "base_uri": "https://localhost:8080/"
        },
        "id": "zSBL0xs8pTOP",
        "outputId": "69e67422-cb02-4ebe-fbdd-c26816d4724d"
      },
      "execution_count": 13,
      "outputs": [
        {
          "output_type": "stream",
          "name": "stdout",
          "text": [
            "Kruskal-Wallis H-Statistic: 9.696947935368053\n",
            "P-Value: 0.007840333026249539\n",
            "There is a significant difference in the median accuracy scores between the algorithms.\n"
          ]
        }
      ]
    },
    {
      "cell_type": "markdown",
      "source": [
        "18. Scenario: A company wants to analyze the effect of price on sales. The data collected is as follows:\n",
        "    Price (in dollars): [10, 15, 12, 8, 14]\n",
        "    Sales: [100, 80, 90, 110, 95]\n",
        "    Perform a simple linear regression to predict\n",
        "\n",
        " sales based on price.\n"
      ],
      "metadata": {
        "id": "srPFEmOupezt"
      }
    },
    {
      "cell_type": "code",
      "source": [
        "import numpy as np\n",
        "from scipy.stats import linregress\n",
        "\n",
        "# Price (in dollars) and Sales data\n",
        "price = np.array([10, 15, 12, 8, 14])\n",
        "sales = np.array([100, 80, 90, 110, 95])\n",
        "\n",
        "# Perform linear regression analysis\n",
        "slope, intercept, r_value, p_value, std_err = linregress(price, sales)\n",
        "\n",
        "# Print the results\n",
        "print(\"Slope (Coefficient):\", slope)\n",
        "print(\"Intercept:\", intercept)\n",
        "print(\"R-squared value:\", r_value**2)\n",
        "print(\"P-value:\", p_value)\n",
        "print(\"Standard Error:\", std_err)\n"
      ],
      "metadata": {
        "colab": {
          "base_uri": "https://localhost:8080/"
        },
        "id": "yDc2Lg9pphw2",
        "outputId": "2c1b6f06-040f-4701-9041-99b31b089517"
      },
      "execution_count": 14,
      "outputs": [
        {
          "output_type": "stream",
          "name": "stdout",
          "text": [
            "Slope (Coefficient): -3.506097560975609\n",
            "Intercept: 136.3719512195122\n",
            "R-squared value: 0.8064024390243901\n",
            "P-value: 0.03850178234753776\n",
            "Standard Error: 0.9918303504036147\n"
          ]
        }
      ]
    },
    {
      "cell_type": "markdown",
      "source": [
        "19. Scenario: A survey is conducted to measure the satisfaction levels of customers with a new product. The data collected is as follows:\n",
        "    [7, 8, 9, 6, 8, 7, 9, 7, 8, 7]\n",
        "    Calculate the standard error of the mean satisfaction score.\n"
      ],
      "metadata": {
        "id": "g2FuqHOBpqLV"
      }
    },
    {
      "cell_type": "code",
      "source": [
        "import numpy as np\n",
        "\n",
        "# Customer satisfaction data\n",
        "satisfaction_scores = np.array([7, 8, 9, 6, 8, 7, 9, 7, 8, 7])\n",
        "\n",
        "# Sample size\n",
        "sample_size = len(satisfaction_scores)\n",
        "\n",
        "# Sample standard deviation\n",
        "sample_std = np.std(satisfaction_scores, ddof=1)\n",
        "\n",
        "# Calculate the standard error of the mean (SEM)\n",
        "standard_error_of_mean = sample_std / np.sqrt(sample_size)\n",
        "\n",
        "print(\"Standard Error of the Mean:\", standard_error_of_mean)\n"
      ],
      "metadata": {
        "colab": {
          "base_uri": "https://localhost:8080/"
        },
        "id": "YhITnEpnpqzF",
        "outputId": "1e34a68a-3619-4735-f427-b2e02a758a3a"
      },
      "execution_count": 15,
      "outputs": [
        {
          "output_type": "stream",
          "name": "stdout",
          "text": [
            "Standard Error of the Mean: 0.30550504633038933\n"
          ]
        }
      ]
    },
    {
      "cell_type": "markdown",
      "source": [
        "20. Scenario: A company wants to analyze the relationship between advertising expenditure and sales. The data collected is as follows:\n",
        "    Advertising Expenditure (in thousands): [10, 15, 12, 8, 14]\n",
        "    Sales (in thousands): [25, 30, 28, 20, 26]\n",
        "    Perform a multiple regression analysis to predict sales based on advertising expenditure.\n"
      ],
      "metadata": {
        "id": "hg9jisrCpxmE"
      }
    },
    {
      "cell_type": "code",
      "source": [
        "import numpy as np\n",
        "import statsmodels.api as sm\n",
        "\n",
        "# Advertising Expenditure (in thousands) and Sales (in thousands) data\n",
        "advertising_expenditure = np.array([10, 15, 12, 8, 14])\n",
        "sales = np.array([25, 30, 28, 20, 26])\n",
        "\n",
        "# Add a constant term to the independent variable (for the intercept in the model)\n",
        "X = sm.add_constant(advertising_expenditure)\n",
        "\n",
        "# Create a multiple regression model\n",
        "model = sm.OLS(sales, X)\n",
        "\n",
        "# Fit the model to the data\n",
        "results = model.fit()\n",
        "\n",
        "# Print the summary of the regression analysis\n",
        "print(results.summary())\n",
        "\n"
      ],
      "metadata": {
        "colab": {
          "base_uri": "https://localhost:8080/"
        },
        "id": "GZ4f8qZPpzxg",
        "outputId": "436c42e1-1e29-492d-b010-ef17515284ca"
      },
      "execution_count": 16,
      "outputs": [
        {
          "output_type": "stream",
          "name": "stdout",
          "text": [
            "                            OLS Regression Results                            \n",
            "==============================================================================\n",
            "Dep. Variable:                      y   R-squared:                       0.767\n",
            "Model:                            OLS   Adj. R-squared:                  0.689\n",
            "Method:                 Least Squares   F-statistic:                     9.872\n",
            "Date:                Sat, 15 Jul 2023   Prob (F-statistic):             0.0516\n",
            "Time:                        08:25:25   Log-Likelihood:                -9.5288\n",
            "No. Observations:                   5   AIC:                             23.06\n",
            "Df Residuals:                       3   BIC:                             22.28\n",
            "Df Model:                           1                                         \n",
            "Covariance Type:            nonrobust                                         \n",
            "==============================================================================\n",
            "                 coef    std err          t      P>|t|      [0.025      0.975]\n",
            "------------------------------------------------------------------------------\n",
            "const         12.2012      4.429      2.755      0.070      -1.893      26.296\n",
            "x1             1.1524      0.367      3.142      0.052      -0.015       2.320\n",
            "==============================================================================\n",
            "Omnibus:                          nan   Durbin-Watson:                   1.136\n",
            "Prob(Omnibus):                    nan   Jarque-Bera (JB):                0.546\n",
            "Skew:                          -0.267   Prob(JB):                        0.761\n",
            "Kurtosis:                       1.471   Cond. No.                         57.3\n",
            "==============================================================================\n",
            "\n",
            "Notes:\n",
            "[1] Standard Errors assume that the covariance matrix of the errors is correctly specified.\n"
          ]
        },
        {
          "output_type": "stream",
          "name": "stderr",
          "text": [
            "/usr/local/lib/python3.10/dist-packages/statsmodels/stats/stattools.py:74: ValueWarning: omni_normtest is not valid with less than 8 observations; 5 samples were given.\n",
            "  warn(\"omni_normtest is not valid with less than 8 observations; %i \"\n"
          ]
        }
      ]
    }
  ]
}