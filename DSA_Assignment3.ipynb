{
  "nbformat": 4,
  "nbformat_minor": 0,
  "metadata": {
    "colab": {
      "provenance": []
    },
    "kernelspec": {
      "name": "python3",
      "display_name": "Python 3"
    },
    "language_info": {
      "name": "python"
    }
  },
  "cells": [
    {
      "cell_type": "markdown",
      "source": [
        "**Question 1**\n",
        "Given an integer array nums of length n and an integer target, find three integers\n",
        "in nums such that the sum is closest to the target.\n",
        "Return the sum of the three integers.\n",
        "\n",
        "You may assume that each input would have exactly one solution.\n",
        "\n",
        "Example 1:\n",
        "Input: nums = [-1,2,1,-4], target = 1\n",
        "Output: 2\n",
        "\n",
        "Explanation: The sum that is closest to the target is 2. (-1 + 2 + 1 = 2)."
      ],
      "metadata": {
        "id": "zaWdjdpWT3CM"
      }
    },
    {
      "cell_type": "code",
      "execution_count": 2,
      "metadata": {
        "colab": {
          "base_uri": "https://localhost:8080/"
        },
        "id": "o4RlH1IqTwzQ",
        "outputId": "e49c95e0-c5cb-40fb-91c3-214351fd0486"
      },
      "outputs": [
        {
          "output_type": "stream",
          "name": "stdout",
          "text": [
            "2\n"
          ]
        }
      ],
      "source": [
        "import sys\n",
        "\n",
        "# Function to return the sum of a\n",
        "# three integer which is closest to target\n",
        "def solution(arr, x):\n",
        "\n",
        "\t# To store the closest sum\n",
        "\tclosestSum = sys.maxsize\n",
        "\n",
        "\t# Run nested loops each loop\n",
        "\t# for each element of triplet\n",
        "\tfor i in range (len(arr)) :\n",
        "\t\tfor j in range(i + 1, len(arr)):\n",
        "\t\t\tfor k in range(j + 1, len( arr)):\n",
        "\n",
        "\t\t\t\t# Update the closestSum\n",
        "\t\t\t\tif(abs(target - closestSum) >\n",
        "\t\t\t\tabs(target - (arr[i] +\n",
        "\t\t\t\tarr[j] + arr[k]))):\n",
        "\t\t\t\t\tclosestSum = (arr[i] +\n",
        "\t\t\t\t\t\t\t\t\tarr[j] + arr[k])\n",
        "\n",
        "\t# Return the closest sum found\n",
        "\treturn closestSum\n",
        "\n",
        "\n",
        "if __name__ == \"__main__\":\n",
        "\n",
        "\tarr = [ -1, 2, 1, -4 ]\n",
        "\ttarget = 1\n",
        "\n",
        "\tprint(solution(arr, x))\n",
        "\n",
        "\n"
      ]
    },
    {
      "cell_type": "markdown",
      "source": [
        "**Question 2**\n",
        "Given an array nums of n integers, return an array of all the unique quadruplets\n",
        "[nums[a], nums[b], nums[c], nums[d]] such that:\n",
        "           ● 0 <= a, b, c, d < n\n",
        "           ● a, b, c, and d are distinct.\n",
        "           ● nums[a] + nums[b] + nums[c] + nums[d] == target\n",
        "\n",
        "You may return the answer in any order.\n",
        "\n",
        "Example 1:\n",
        "Input: nums = [1,0,-1,0,-2,2], target = 0\n",
        "Output: [[-2,-1,1,2],[-2,0,0,2],[-1,0,0,1]]"
      ],
      "metadata": {
        "id": "_h6lc9OTURTU"
      }
    },
    {
      "cell_type": "code",
      "source": [
        "def fourSumnumer(nums, target):\n",
        "    nums.sort()  # Sort the array\n",
        "    result = []\n",
        "    n = len(nums)\n",
        "\n",
        "    for i in range(n - 3):\n",
        "        # Skip duplicates values\n",
        "        if i > 0 and nums[i] == nums[i - 1]:\n",
        "            continue\n",
        "\n",
        "        for j in range(i + 1, n - 2):\n",
        "            # Skip duplicates values\n",
        "            if j > i + 1 and nums[j] == nums[j - 1]:\n",
        "                continue\n",
        "\n",
        "            left = j + 1\n",
        "            right = n - 1\n",
        "\n",
        "            while left < right:\n",
        "                current_sum = nums[i] + nums[j] + nums[left] + nums[right]\n",
        "\n",
        "                if current_sum == target:\n",
        "                    result.append([nums[i], nums[j], nums[left], nums[right]])\n",
        "\n",
        "                    # Skip duplicates values\n",
        "                    while left < right and nums[left] == nums[left + 1]:\n",
        "                        left += 1\n",
        "                    while left < right and nums[right] == nums[right - 1]:\n",
        "                        right -= 1\n",
        "\n",
        "                    left += 1\n",
        "                    right -= 1\n",
        "                elif current_sum < target:\n",
        "                    left += 1\n",
        "                else:\n",
        "                    right -= 1\n",
        "\n",
        "    return result\n",
        "\n",
        "\n",
        "# Given Example array\n",
        "nums = [1, 0, -1, 0, -2, 2]\n",
        "target = 0\n",
        "result = fourSumnumer(nums, target)\n",
        "print(result)\n"
      ],
      "metadata": {
        "colab": {
          "base_uri": "https://localhost:8080/"
        },
        "id": "YVpmAe_gU2Pu",
        "outputId": "511f7d28-76f2-4ca5-f3c6-0193e696b8ae"
      },
      "execution_count": 3,
      "outputs": [
        {
          "output_type": "stream",
          "name": "stdout",
          "text": [
            "[[-2, -1, 1, 2], [-2, 0, 0, 2], [-1, 0, 0, 1]]\n"
          ]
        }
      ]
    },
    {
      "cell_type": "markdown",
      "source": [
        "**Question 3**\n",
        "A permutation of an array of integers is an arrangement of its members into a\n",
        "sequence or linear order.\n",
        "\n",
        "For example, for arr = [1,2,3], the following are all the permutations of arr:\n",
        "[1,2,3], [1,3,2], [2, 1, 3], [2, 3, 1], [3,1,2], [3,2,1].\n",
        "\n",
        "The next permutation of an array of integers is the next lexicographically greater\n",
        "permutation of its integer. More formally, if all the permutations of the array are\n",
        "sorted in one container according to their lexicographical order, then the next\n",
        "permutation of that array is the permutation that follows it in the sorted container.\n",
        "\n",
        "If such an arrangement is not possible, the array must be rearranged as the\n",
        "lowest possible order (i.e., sorted in ascending order).\n",
        "\n",
        "● For example, the next permutation of arr = [1,2,3] is [1,3,2].\n",
        "● Similarly, the next permutation of arr = [2,3,1] is [3,1,2].\n",
        "● While the next permutation of arr = [3,2,1] is [1,2,3] because [3,2,1] does not\n",
        "have a lexicographical larger rearrangement.\n",
        "\n",
        "Given an array of integers nums, find the next permutation of nums.\n",
        "The replacement must be in place and use only constant extra memory.\n",
        "\n",
        "**Example 1:**\n",
        "Input: nums = [1,2,3]\n",
        "Output: [1,3,2]\n",
        "\n"
      ],
      "metadata": {
        "id": "8WtS_tzqVsZU"
      }
    },
    {
      "cell_type": "code",
      "source": [
        "def nextPermutationorder(nums):\n",
        "    # Find the first element from the right that is smaller than its next element\n",
        "    i = len(nums) - 2\n",
        "    while i >= 0 and nums[i] >= nums[i + 1]:\n",
        "        i -= 1\n",
        "\n",
        "    if i >= 0:\n",
        "        # Find the smallest element greater than nums[i] to its right side\n",
        "        j = len(nums) - 1\n",
        "        while nums[j] <= nums[i]:\n",
        "            j -= 1\n",
        "\n",
        "        # Swap nums[i] and nums[j]\n",
        "        nums[i], nums[j] = nums[j], nums[i]\n",
        "\n",
        "    # Reverse the remaining elements to the right of i\n",
        "    left = i + 1\n",
        "    right = len(nums) - 1\n",
        "    while left < right:\n",
        "        nums[left], nums[right] = nums[right], nums[left]\n",
        "        left += 1\n",
        "        right -= 1\n",
        "\n",
        "\n",
        "#Given Example usage\n",
        "nums = [1, 2, 3]\n",
        "print(\"Input permutation:\", nums)\n",
        "\n",
        "nextPermutationorder(nums)\n",
        "print(\"output permutation:\", nums)\n"
      ],
      "metadata": {
        "colab": {
          "base_uri": "https://localhost:8080/"
        },
        "id": "w65sHw5yV0ks",
        "outputId": "df2df862-9469-49fe-ba89-a69728573c02"
      },
      "execution_count": 5,
      "outputs": [
        {
          "output_type": "stream",
          "name": "stdout",
          "text": [
            "Input permutation: [1, 2, 3]\n",
            "output permutation: [1, 3, 2]\n"
          ]
        }
      ]
    },
    {
      "cell_type": "markdown",
      "source": [
        "**Question 4**\n",
        "Given a sorted array of distinct integers and a target value, return the index if the\n",
        "target is found. If not, return the index where it would be if it were inserted in\n",
        "order.\n",
        "\n",
        "You must write an algorithm with O(log n) runtime complexity.\n",
        "\n",
        "Example 1:\n",
        "Input: nums = [1,3,5,6], target = 5\n",
        "Output: 2"
      ],
      "metadata": {
        "id": "gW46pOrqX1nG"
      }
    },
    {
      "cell_type": "code",
      "source": [
        "# Program for retun index if target is found.\n",
        "def searchIndex(nums, target):\n",
        "    left = 0\n",
        "    right = len(nums) - 1\n",
        "\n",
        "    while left <= right:\n",
        "        mid = (left + right) // 2\n",
        "\n",
        "        if nums[mid] == target:\n",
        "            return mid\n",
        "        elif nums[mid] < target:\n",
        "            left = mid + 1\n",
        "        else:\n",
        "            right = mid - 1\n",
        "\n",
        "    return left\n",
        "\n",
        "\n",
        "# Example usage\n",
        "nums = [1, 3, 5, 6]\n",
        "target = 5\n",
        "index = searchIndex(nums, target)\n",
        "print(\"Target found at index:\", index)\n"
      ],
      "metadata": {
        "colab": {
          "base_uri": "https://localhost:8080/"
        },
        "id": "fqCfWvmXX488",
        "outputId": "53f8f2b2-0c9d-4dc5-cae4-1b7a62b788aa"
      },
      "execution_count": 6,
      "outputs": [
        {
          "output_type": "stream",
          "name": "stdout",
          "text": [
            "Target found at index: 2\n"
          ]
        }
      ]
    },
    {
      "cell_type": "markdown",
      "source": [
        "\n",
        "**Question 5**\n",
        "You are given a large integer represented as an integer array digits, where each\n",
        "digits[i] is the ith digit of the integer. The digits are ordered from most significant\n",
        "to least significant in left-to-right order. The large integer does not contain any\n",
        "leading 0's.\n",
        "\n",
        "Increment the large integer by one and return the resulting array of digits.\n",
        "\n",
        "**Example 1:**\n",
        "Input: digits = [1,2,3]\n",
        "Output: [1,2,4]\n",
        "\n",
        "**Explanation:** The array represents the integer 123.\n",
        "Incrementing by one gives 123 + 1 = 124.\n",
        "Thus, the result should be [1,2,4].\n",
        "\n"
      ],
      "metadata": {
        "id": "mtuXPofhYkxd"
      }
    },
    {
      "cell_type": "code",
      "source": [
        "def incrementOne(digits):\n",
        "    n = len(digits) #find lengths\n",
        "\n",
        "    # Increment the last digit by 1\n",
        "    digits[n - 1] += 1\n",
        "\n",
        "    # Handling carrying over to previous digits\n",
        "    carry = 0\n",
        "    for i in range(n - 1, -1, -1):\n",
        "        digits[i] += carry\n",
        "        carry = digits[i] // 10\n",
        "        digits[i] %= 10\n",
        "\n",
        "    # If there is still a carry after processing all digits, insert it at the beginning\n",
        "    if carry > 0:\n",
        "        digits.insert(0, carry)\n",
        "\n",
        "    return digits\n",
        "\n",
        "\n",
        "# Example usage\n",
        "digits = [1, 2, 3]\n",
        "result = incrementOne(digits)\n",
        "print(\"Result:\", result)\n"
      ],
      "metadata": {
        "colab": {
          "base_uri": "https://localhost:8080/"
        },
        "id": "6JiyBDKLYpjV",
        "outputId": "433bd529-5416-4188-b009-ec80e1dc5a4d"
      },
      "execution_count": 7,
      "outputs": [
        {
          "output_type": "stream",
          "name": "stdout",
          "text": [
            "Result: [1, 2, 4]\n"
          ]
        }
      ]
    },
    {
      "cell_type": "markdown",
      "source": [],
      "metadata": {
        "id": "IUS8AP34ccFX"
      }
    },
    {
      "cell_type": "markdown",
      "source": [
        "**Question 6**\n",
        "Given a non-empty array of integers nums, every element appears twice except\n",
        "for one. Find that single one.\n",
        "\n",
        "You must implement a solution with a linear runtime complexity and use only\n",
        "constant extra space.\n",
        "\n",
        "Example 1:\n",
        "Input: nums = [2,2,1]\n",
        "Output: 1"
      ],
      "metadata": {
        "id": "CYv3elBhccHP"
      }
    },
    {
      "cell_type": "code",
      "source": [
        "def singleNone(nums):\n",
        "    finalresult = 0\n",
        "    for num in nums:\n",
        "        finalresult ^= num\n",
        "    return finalresult\n",
        "\n",
        "\n",
        "# Example usage\n",
        "nums = [2, 2, 1]\n",
        "finalresult = singleNone(nums)\n",
        "print(\"Single output:\", finalresult)\n"
      ],
      "metadata": {
        "colab": {
          "base_uri": "https://localhost:8080/"
        },
        "id": "s7GusOIcckGx",
        "outputId": "591401c4-a976-4f9d-de0c-d176394b442b"
      },
      "execution_count": 9,
      "outputs": [
        {
          "output_type": "stream",
          "name": "stdout",
          "text": [
            "Single output: 1\n"
          ]
        }
      ]
    },
    {
      "cell_type": "markdown",
      "source": [
        "**Question 7**\n",
        "You are given an inclusive range [lower, upper] and a sorted unique integer array\n",
        "nums, where all elements are within the inclusive range.\n",
        "\n",
        "A number x is considered missing if x is in the range [lower, upper] and x is not in\n",
        "nums.\n",
        "\n",
        "Return the shortest sorted list of ranges that exactly covers all the missing\n",
        "numbers. That is, no element of nums is included in any of the ranges, and each\n",
        "missing number is covered by one of the ranges.\n",
        "\n",
        "Example 1:\n",
        "Input: nums = [0,1,3,50,75], lower = 0, upper = 99\n",
        "Output: [[2,2],[4,49],[51,74],[76,99]]\n",
        "\n",
        "Explanation: The ranges are:\n",
        "[2,2]\n",
        "[4,49]\n",
        "[51,74]\n",
        "[76,99]"
      ],
      "metadata": {
        "id": "buc78KzneFtH"
      }
    },
    {
      "cell_type": "code",
      "source": [
        "def findMissingRanges(nums, lowerrange, upperrange):\n",
        "    missing_ranges = []\n",
        "\n",
        "    # Helper function to add a range to the result\n",
        "    def addRange(start, end):\n",
        "        if start == end:\n",
        "            missing_ranges.append(str(start))\n",
        "        else:\n",
        "            missing_ranges.append(str(start) + '->' + str(end))\n",
        "\n",
        "    # Check if there are missing numbers before the first element\n",
        "    if lowerrange < nums[0]:\n",
        "        addRange(lowerrange, nums[0] - 1)\n",
        "\n",
        "    # Check for missing numbers between consecutive elements\n",
        "    for i in range(len(nums) - 1):\n",
        "        if nums[i + 1] - nums[i] > 1:\n",
        "            addRange(nums[i] + 1, nums[i + 1] - 1)\n",
        "\n",
        "    # Check if there are missing numbers after the last element\n",
        "    if upperrange > nums[-1]:\n",
        "        addRange(nums[-1] + 1, upperrange)\n",
        "\n",
        "    return missing_ranges\n",
        "\n",
        "\n",
        "# Example usage\n",
        "nums = [0, 1, 3, 50, 75]\n",
        "lowerrange = 0\n",
        "upperrange = 99\n",
        "result = findMissingRanges(nums, lowerrange, upperrange)\n",
        "print(\"Missing ranges:\", result)\n"
      ],
      "metadata": {
        "colab": {
          "base_uri": "https://localhost:8080/"
        },
        "id": "oXYxyoiFfN6H",
        "outputId": "954c6ed3-7de4-42b5-cd0c-a0ac7a1ee7e7"
      },
      "execution_count": 15,
      "outputs": [
        {
          "output_type": "stream",
          "name": "stdout",
          "text": [
            "Missing ranges: ['2', '4->49', '51->74', '76->99']\n"
          ]
        }
      ]
    },
    {
      "cell_type": "markdown",
      "source": [
        "**Question 8**\n",
        "Given an array of meeting time intervals where intervals[i] = [starti, endi],\n",
        "determine if a person could attend all meetings.\n",
        "\n",
        "Example 1:\n",
        "Input: intervals = [[0,30],[5,10],[15,20]]\n",
        "Output: false"
      ],
      "metadata": {
        "id": "aRtU22fZhMNw"
      }
    },
    {
      "cell_type": "code",
      "source": [
        "def AttendMeetingtiming(intervals):\n",
        "    intervals.sort(key=lambda x: x[0])  # Sort intervals\n",
        "\n",
        "    for i in range(1, len(intervals)):\n",
        "        if intervals[i][0] < intervals[i - 1][1]:\n",
        "            return False\n",
        "\n",
        "    return True\n",
        "\n",
        "\n",
        "# Example usage\n",
        "intervals = [[0, 30], [5, 10], [15, 20]]\n",
        "result = AttendMeetingtiming(intervals)\n",
        "print(\"meeting time intervals:\", result)\n"
      ],
      "metadata": {
        "colab": {
          "base_uri": "https://localhost:8080/"
        },
        "id": "NBLIZpjlhvrR",
        "outputId": "b2bdcb85-0f05-4a33-8ee0-54b5b1fdcee0"
      },
      "execution_count": 16,
      "outputs": [
        {
          "output_type": "stream",
          "name": "stdout",
          "text": [
            "meeting time intervals: False\n"
          ]
        }
      ]
    }
  ]
}