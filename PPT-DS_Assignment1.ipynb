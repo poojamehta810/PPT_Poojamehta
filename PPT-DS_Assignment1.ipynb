{
  "nbformat": 4,
  "nbformat_minor": 0,
  "metadata": {
    "colab": {
      "provenance": []
    },
    "kernelspec": {
      "name": "python3",
      "display_name": "Python 3"
    },
    "language_info": {
      "name": "python"
    }
  },
  "cells": [
    {
      "cell_type": "markdown",
      "source": [
        "1.Write a Python program to reverse a string without using any built-in string reversal functions"
      ],
      "metadata": {
        "id": "aF4tDzZ0WowI"
      }
    },
    {
      "cell_type": "code",
      "source": [
        "def reverse(s):\n",
        "\tif len(s) == 0:\n",
        "\t\treturn s\n",
        "\telse:\n",
        "\t\treturn reverse(s[1:]) + s[0]\n",
        "\n",
        "\n",
        "s = \"DataScience\"\n",
        "\n",
        "print(\"The original string is : \", end=\"\")\n",
        "print(s)\n",
        "\n",
        "print(\"The reversed string(using recursion) is : \", end=\"\")\n",
        "print(reverse(s))\n"
      ],
      "metadata": {
        "colab": {
          "base_uri": "https://localhost:8080/"
        },
        "id": "pzykW8M6YbiV",
        "outputId": "86cd8230-a8b9-4bce-f627-0ab64688c211"
      },
      "execution_count": null,
      "outputs": [
        {
          "output_type": "stream",
          "name": "stdout",
          "text": [
            "The original string is : DataScience\n",
            "The reversed string(using recursion) is : ecneicSataD\n"
          ]
        }
      ]
    },
    {
      "cell_type": "markdown",
      "source": [
        "2.Implement a function to check if a given string is a palindrome"
      ],
      "metadata": {
        "id": "HE9KEpOHYuux"
      }
    },
    {
      "cell_type": "code",
      "source": [
        "# function  to check if a given string is a palindrome\n",
        "\n",
        "def checkPalindrome(s):\n",
        "\treturn s == s[::-1]\n",
        "\n",
        "\n",
        "\n",
        "s = input(\"enter string\")\n",
        "ans = checkPalindrome(s)\n",
        "\n",
        "if ans:\n",
        "\tprint(\"its palindrom\")\n",
        "else:\n",
        "\tprint(\"its palindrom\")\n"
      ],
      "metadata": {
        "colab": {
          "base_uri": "https://localhost:8080/"
        },
        "id": "ZWd2TAhnigkn",
        "outputId": "4021c7a0-ced9-4942-c1e9-bdf4a7bdbd0b"
      },
      "execution_count": 15,
      "outputs": [
        {
          "output_type": "stream",
          "name": "stdout",
          "text": [
            "enter stringbab\n",
            "Yes\n"
          ]
        }
      ]
    },
    {
      "cell_type": "markdown",
      "source": [],
      "metadata": {
        "id": "DY_c3vUOqqbS"
      }
    },
    {
      "cell_type": "markdown",
      "source": [
        "3. Write a program to find the largest element in a given list."
      ],
      "metadata": {
        "id": "KKktxC9GiyVO"
      }
    },
    {
      "cell_type": "code",
      "source": [
        "# program to find the largest element in a given list.\n",
        "\n",
        "# List of numbers\n",
        "list1 = [100, 2, 46, 425, 199]\n",
        "\n",
        "# Printing the maximum element\n",
        "print(\"Largest number is:\", max(list1))\n"
      ],
      "metadata": {
        "colab": {
          "base_uri": "https://localhost:8080/"
        },
        "id": "2LitDQiYi2ZG",
        "outputId": "2a764c8e-8c90-429f-9738-d9cc8987342a"
      },
      "execution_count": 3,
      "outputs": [
        {
          "output_type": "stream",
          "name": "stdout",
          "text": [
            "Largest number is: 425\n"
          ]
        }
      ]
    },
    {
      "cell_type": "markdown",
      "source": [
        "4.Implement a function to count the occurrence of each element in a list."
      ],
      "metadata": {
        "id": "hmjd4biXjOJK"
      }
    },
    {
      "cell_type": "code",
      "source": [
        "# count the occurrence of each element in a list.\n",
        "def checkcountoccur(lst, x):\n",
        "\treturn lst.count(x)\n",
        "\n",
        "lst = [18, 26, 18, 20, 8, 20, 18, 28, 28]\n",
        "x = 18\n",
        "print('{} has occurred {} times'.format(x,\n",
        "\t\t\t\t\t\t\t\t\t\tcheckcountoccur(lst, x)))\n"
      ],
      "metadata": {
        "colab": {
          "base_uri": "https://localhost:8080/"
        },
        "id": "2PVEKItGjROv",
        "outputId": "80087e27-0ce7-4c7b-fec2-28e92c5992cd"
      },
      "execution_count": 5,
      "outputs": [
        {
          "output_type": "stream",
          "name": "stdout",
          "text": [
            "18 has occurred 3 times\n"
          ]
        }
      ]
    },
    {
      "cell_type": "markdown",
      "source": [
        "5.Write a Python program to find the second largest number in a list"
      ],
      "metadata": {
        "id": "Cxhb4cfqj4uk"
      }
    },
    {
      "cell_type": "code",
      "source": [
        "# Python program to find the second largest number in a list\n",
        "\n",
        "# List of numbers\n",
        "list1 = [200, 240, 34, 445, 199]\n",
        "\n",
        "# new_list is a set of list1\n",
        "new_list = set(list1)\n",
        "\n",
        "#print(new_list)\n",
        "# Removing the largest element from temp list\n",
        "new_list.remove(max(new_list))\n",
        "\n",
        "# Elements in original list are not changed\n",
        "\n",
        "print(max(new_list))"
      ],
      "metadata": {
        "colab": {
          "base_uri": "https://localhost:8080/"
        },
        "id": "ZPZiS7k8j_5P",
        "outputId": "09a63dae-12ca-4f52-936e-d694bae7e01f"
      },
      "execution_count": 8,
      "outputs": [
        {
          "output_type": "stream",
          "name": "stdout",
          "text": [
            "{34, 199, 200, 240, 445}\n"
          ]
        }
      ]
    },
    {
      "cell_type": "markdown",
      "source": [
        "6. Implement a function to remove duplicate elements from a list."
      ],
      "metadata": {
        "id": "c84_Dri4ksh_"
      }
    },
    {
      "cell_type": "code",
      "source": [
        "# Python program to remove duplicate elements from a lis in a list\n",
        "\n",
        "# List of numbers\n",
        "list1 = [10, 20, 20, 4, 45, 45, 45, 99, 99,10,25,50,45]\n",
        "\n",
        "# Removing duplicates from the list\n",
        "list2 = list(set(list1))\n",
        "# Sorting the list\n",
        "list2.sort()\n",
        "print(list2)\n",
        "\n",
        "\n"
      ],
      "metadata": {
        "colab": {
          "base_uri": "https://localhost:8080/"
        },
        "id": "31PHyrZAkvRV",
        "outputId": "86af4be5-cb8f-4e35-8130-2a924d31214f"
      },
      "execution_count": 12,
      "outputs": [
        {
          "output_type": "stream",
          "name": "stdout",
          "text": [
            "[4, 10, 20, 25, 45, 50, 99]\n"
          ]
        }
      ]
    },
    {
      "cell_type": "markdown",
      "source": [
        "7. Write a program to calculate the factorial of a given number."
      ],
      "metadata": {
        "id": "Vm8YnIqppzt7"
      }
    },
    {
      "cell_type": "code",
      "source": [
        "# factorial of given number\n",
        "\n",
        "def factorial(n):\n",
        "\n",
        "\t# single line to find factorial\n",
        "\treturn 1 if (n==1 or n==0) else n * factorial(n - 1)\n",
        "\n",
        "num = int(input(\"enter number\"))\n",
        "print (\"Factorial of\",num,\"is\",\n",
        "\tfactorial(num))\n",
        "\n",
        "\n"
      ],
      "metadata": {
        "colab": {
          "base_uri": "https://localhost:8080/"
        },
        "id": "V5qvEroDp3by",
        "outputId": "98c7dc9b-0a85-4412-f735-5bbdf07d4c3d"
      },
      "execution_count": 14,
      "outputs": [
        {
          "output_type": "stream",
          "name": "stdout",
          "text": [
            "enter number4\n",
            "Factorial of 4 is 24\n"
          ]
        }
      ]
    },
    {
      "cell_type": "markdown",
      "source": [
        "8. Implement a function to check if a given number is prime."
      ],
      "metadata": {
        "id": "wpEIm8aGqtm5"
      }
    },
    {
      "cell_type": "code",
      "source": [
        "num = int(input(\"Enter number\"))\n",
        "# If given number is greater than 1\n",
        "if num > 1:\n",
        "\t# Iterate from 2 to n / 2\n",
        "\tfor i in range(2, int(num/2)+1):\n",
        "\t\t# If num is divisible by any number between\n",
        "\t\t# 2 and n / 2, it is not prime\n",
        "\t\tif (num % i) == 0:\n",
        "\t\t\tprint(num, \"is not a prime number\")\n",
        "\t\t\tbreak\n",
        "\telse:\n",
        "\t\tprint(num, \"is a prime number\")\n",
        "else:\n",
        "\tprint(num, \"is not a prime number\")\n"
      ],
      "metadata": {
        "colab": {
          "base_uri": "https://localhost:8080/"
        },
        "id": "lz81z-LdqwAK",
        "outputId": "2e270142-d8f9-49f7-b7ea-91e5b2178aa3"
      },
      "execution_count": 20,
      "outputs": [
        {
          "output_type": "stream",
          "name": "stdout",
          "text": [
            "Enter number13\n",
            "13 is a prime number\n"
          ]
        }
      ]
    },
    {
      "cell_type": "markdown",
      "source": [
        "9. Write a Python program to sort a list of integers in ascending order."
      ],
      "metadata": {
        "id": "dmylPMqSuvLo"
      }
    },
    {
      "cell_type": "code",
      "source": [
        "\n",
        "# sorting list in Ascending Order\n",
        "\n",
        "numbers = [11, 32, 24, 22,76,34,88]\n",
        "# Sorting list of Integers in ascending\n",
        "print(numbers)\n",
        "print(sorted(numbers))\n",
        "\n",
        ""
      ],
      "metadata": {
        "colab": {
          "base_uri": "https://localhost:8080/"
        },
        "id": "7nVcHRCZvUz4",
        "outputId": "3defb910-c81f-471a-9bb6-412601a5602f"
      },
      "execution_count": 25,
      "outputs": [
        {
          "output_type": "stream",
          "name": "stdout",
          "text": [
            "[11, 32, 24, 22, 76, 34, 88]\n",
            "[11, 22, 24, 32, 34, 76, 88]\n"
          ]
        }
      ]
    },
    {
      "cell_type": "markdown",
      "source": [
        "10. Implement a function to find the sum of all numbers in a list."
      ],
      "metadata": {
        "id": "fhKJWmqMvsGH"
      }
    },
    {
      "cell_type": "code",
      "source": [
        "numbers = [11,22,43,42,51,12,34,55]\n",
        "\n",
        "Sum = sum(numbers)\n",
        "print(Sum)\n",
        "\n",
        "\n"
      ],
      "metadata": {
        "colab": {
          "base_uri": "https://localhost:8080/"
        },
        "id": "DKPAUKRovuB6",
        "outputId": "a5b3befe-f066-4762-c1d6-aabcc97e98c8"
      },
      "execution_count": 27,
      "outputs": [
        {
          "output_type": "stream",
          "name": "stdout",
          "text": [
            "270\n"
          ]
        }
      ]
    },
    {
      "cell_type": "markdown",
      "source": [
        "11. Write a program to find the common elements between two lists."
      ],
      "metadata": {
        "id": "4c2cHBL4wOcK"
      }
    },
    {
      "cell_type": "code",
      "source": [
        "def common_element(a, b):\n",
        "\tresult = [i for i in a if i in b]\n",
        "\treturn result\n",
        "\n",
        "a = [11, 22, 32, 43, 51,100]\n",
        "b = [53, 62, 78, 88, 92,22]\n",
        "\n",
        "print(\"The common elements in the two lists are: \")\n",
        "print(common_element(a, b))\n"
      ],
      "metadata": {
        "colab": {
          "base_uri": "https://localhost:8080/"
        },
        "id": "xgSsiawOwQZS",
        "outputId": "a7c2d1ef-0aa2-43e7-c357-cd3efb805382"
      },
      "execution_count": 29,
      "outputs": [
        {
          "output_type": "stream",
          "name": "stdout",
          "text": [
            "The common elements in the two lists are: \n",
            "[22]\n"
          ]
        }
      ]
    },
    {
      "cell_type": "markdown",
      "source": [
        "12. Implement a function to check if a given string is an anagram of another string."
      ],
      "metadata": {
        "id": "w_-w_wu3xtTP"
      }
    },
    {
      "cell_type": "code",
      "source": [
        "# check if a given string is an anagram of another string.\n",
        "\n",
        "def checkanagram(s1, s2):\n",
        "\n",
        "\t# the sorted strings are checked\n",
        "\tif(sorted(s1)== sorted(s2)):\n",
        "\t\tprint(\"The strings are anagrams.\")\n",
        "\telse:\n",
        "\t\tprint(\"The strings aren't anagrams.\")\n",
        "\n",
        "\n",
        "s1 =\"abcde\"\n",
        "s2 =\"dabce\"\n",
        "checkanagram(s1, s2)\n"
      ],
      "metadata": {
        "colab": {
          "base_uri": "https://localhost:8080/"
        },
        "id": "EaUO1DrGxvRn",
        "outputId": "10589097-4b89-4c49-fd69-617de39eb9eb"
      },
      "execution_count": 31,
      "outputs": [
        {
          "output_type": "stream",
          "name": "stdout",
          "text": [
            "The strings are anagrams.\n"
          ]
        }
      ]
    },
    {
      "cell_type": "markdown",
      "source": [
        "13. Write a Python program to generate all permutations of a given string."
      ],
      "metadata": {
        "id": "-FqBmjpBySPm"
      }
    },
    {
      "cell_type": "code",
      "source": [
        "def get_permutation(string, i=0):\n",
        "\n",
        "    if i == len(string):\n",
        "        print(\"\".join(string))\n",
        "\n",
        "    for j in range(i, len(string)):\n",
        "\n",
        "        words = [c for c in string]\n",
        "\n",
        "        # swaping the string\n",
        "        words[i], words[j] = words[j], words[i]\n",
        "\n",
        "        get_permutation(words, i + 1)\n",
        "\n",
        "print(get_permutation('ABCD'))"
      ],
      "metadata": {
        "colab": {
          "base_uri": "https://localhost:8080/"
        },
        "id": "UTx7dl_-yUPA",
        "outputId": "56f88b44-8e48-4a3f-a9c7-dc34cc27613b"
      },
      "execution_count": 32,
      "outputs": [
        {
          "output_type": "stream",
          "name": "stdout",
          "text": [
            "ABCD\n",
            "ABDC\n",
            "ACBD\n",
            "ACDB\n",
            "ADCB\n",
            "ADBC\n",
            "BACD\n",
            "BADC\n",
            "BCAD\n",
            "BCDA\n",
            "BDCA\n",
            "BDAC\n",
            "CBAD\n",
            "CBDA\n",
            "CABD\n",
            "CADB\n",
            "CDAB\n",
            "CDBA\n",
            "DBCA\n",
            "DBAC\n",
            "DCBA\n",
            "DCAB\n",
            "DACB\n",
            "DABC\n",
            "None\n"
          ]
        }
      ]
    },
    {
      "cell_type": "markdown",
      "source": [
        "14. Implement a function to calculate the Fibonacci sequence up to a given number of terms."
      ],
      "metadata": {
        "id": "j2z4524JzcQF"
      }
    },
    {
      "cell_type": "code",
      "source": [
        "num = int(input(\"Enter number\"))\n",
        "n1, n2 = 0, 1\n",
        "print(\"Fibonacci Series:\", n1, n2, end=\" \")\n",
        "for i in range(2, num):\n",
        "    n3 = n1 + n2\n",
        "    n1 = n2\n",
        "    n2 = n3\n",
        "    print(n3, end=\" \")\n",
        "\n",
        "print()"
      ],
      "metadata": {
        "colab": {
          "base_uri": "https://localhost:8080/"
        },
        "id": "C5WT2nMWzgsd",
        "outputId": "a8aaeb4f-a177-4935-9718-93914328b1a7"
      },
      "execution_count": 33,
      "outputs": [
        {
          "output_type": "stream",
          "name": "stdout",
          "text": [
            "Enter number5\n",
            "Fibonacci Series: 0 1 1 2 3 \n"
          ]
        }
      ]
    },
    {
      "cell_type": "markdown",
      "source": [
        "15. Write a program to find the median of a list of numbers."
      ],
      "metadata": {
        "id": "mZIe-xEA5miT"
      }
    },
    {
      "cell_type": "code",
      "source": [
        "# find the median of a list of numbers.\n",
        "\n",
        "# initializing list\n",
        "test_list = [14, 25, 48, 39, 150, 171,24]\n",
        "\n",
        "# printing list\n",
        "print(\"The original list : \" + str(test_list))\n",
        "\n",
        "# Median of list\n",
        "# Using loop + \"~\" operator\n",
        "test_list.sort()\n",
        "mid = len(test_list) // 2\n",
        "res = (test_list[mid] + test_list[~mid]) / 2\n",
        "\n",
        "# Printing result\n",
        "print(\"Median of list is : \" + str(res))\n"
      ],
      "metadata": {
        "colab": {
          "base_uri": "https://localhost:8080/"
        },
        "id": "MHT7YvHT5pdy",
        "outputId": "d6f0748b-8006-4331-e5f5-92319ab6965e"
      },
      "execution_count": 35,
      "outputs": [
        {
          "output_type": "stream",
          "name": "stdout",
          "text": [
            "The original list : [14, 25, 48, 39, 150, 171, 24]\n",
            "Median of list is : 39.0\n"
          ]
        }
      ]
    },
    {
      "cell_type": "markdown",
      "source": [
        "16. Implement a function to check if a given list is sorted in non-decreasing order."
      ],
      "metadata": {
        "id": "9wyye_ID6Va7"
      }
    },
    {
      "cell_type": "code",
      "source": [
        "#check if a given list is sorted in non-decreasing order\n",
        "\n",
        "\n",
        "test_list = [102,76 ,34,41, 25, 48, 103]\n",
        "\n",
        "# printing original list\n",
        "print (\"Original list : \" + str(test_list))\n",
        "\n",
        "flag = 0\n",
        "test_list1 = test_list[:]\n",
        "test_list1.sort()\n",
        "if (test_list1 == test_list):\n",
        "\tflag = 1\n",
        "\n",
        "# printing result\n",
        "if (flag) :\n",
        "\tprint (\"Yes, List is non-decreasing order\")\n",
        "else :\n",
        "\tprint (\"No, List is not non-decreasing orderd.\")\n"
      ],
      "metadata": {
        "colab": {
          "base_uri": "https://localhost:8080/"
        },
        "id": "sN9T34DG6ZBM",
        "outputId": "3689b538-3e82-4b8f-a19a-1a7fb9ea5f2b"
      },
      "execution_count": 36,
      "outputs": [
        {
          "output_type": "stream",
          "name": "stdout",
          "text": [
            "Original list : [102, 76, 34, 41, 25, 48, 103]\n",
            "No, List is not non-decreasing orderd.\n"
          ]
        }
      ]
    },
    {
      "cell_type": "markdown",
      "source": [
        "17. Write a Python program to find the intersection of two lists."
      ],
      "metadata": {
        "id": "Z0kp2lqb8DSy"
      }
    },
    {
      "cell_type": "code",
      "source": [
        "# find the intersection of two lists\n",
        "def intersection(lst1, lst2):\n",
        "\tlst3 = [value for value in lst1 if value in lst2]\n",
        "\treturn lst3\n",
        "\n",
        "# Driver Code\n",
        "lst1 = [14, 19, 1, 17, 11, 26,22, 28, 54, 69]\n",
        "lst2 = [79, 19, 74, 21, 45, 1, 63, 28, 26,54]\n",
        "print(intersection(lst1, lst2))\n"
      ],
      "metadata": {
        "colab": {
          "base_uri": "https://localhost:8080/"
        },
        "id": "OeKY63228FTF",
        "outputId": "5870781d-ead6-4c34-f94e-8ef04200c3b1"
      },
      "execution_count": 37,
      "outputs": [
        {
          "output_type": "stream",
          "name": "stdout",
          "text": [
            "[19, 1, 26, 28, 54]\n"
          ]
        }
      ]
    },
    {
      "cell_type": "markdown",
      "source": [
        "18. Implement a function to find the maximum subarray sum in a given list."
      ],
      "metadata": {
        "id": "i4eTvnpt8ZL-"
      }
    },
    {
      "cell_type": "code",
      "source": [
        "# Python program to find maximum subarray sum in a given list.\n",
        "\n",
        "def maxSubArraySum(a,size):\n",
        "\n",
        "\tmax_so_far =a[0]\n",
        "\tcurr_max = a[0]\n",
        "\n",
        "\tfor i in range(1,size):\n",
        "\t\tcurr_max = max(a[i], curr_max + a[i])\n",
        "\t\tmax_so_far = max(max_so_far,curr_max)\n",
        "\n",
        "\treturn max_so_far\n",
        "\n",
        "\n",
        "a = [4, 3, 14, 10, 2, 1, 55, 3]\n",
        "print(\"Maximum subarray sum is\" , maxSubArraySum(a,len(a)))\n",
        "\n",
        "\n"
      ],
      "metadata": {
        "colab": {
          "base_uri": "https://localhost:8080/"
        },
        "id": "Rxtu_G7D8cKZ",
        "outputId": "fd056d8e-e7e6-4dbd-d6b1-59aab649a092"
      },
      "execution_count": 38,
      "outputs": [
        {
          "output_type": "stream",
          "name": "stdout",
          "text": [
            "Maximum subarray sum is 92\n"
          ]
        }
      ]
    },
    {
      "cell_type": "markdown",
      "source": [
        "19. Write a program to remove all vowels from a given string."
      ],
      "metadata": {
        "id": "SEtxfZKl9yOZ"
      }
    },
    {
      "cell_type": "code",
      "source": [
        "string = \"Data Science Bootcamp\"\n",
        "\n",
        "vowels = ['a', 'e', 'i', 'o', 'u', 'A', 'E', 'I', 'O', 'U']\n",
        "result = \"\"\n",
        "\n",
        "for i in range(len(string)):\n",
        "    if string[i] not in vowels:\n",
        "        result = result + string[i]\n",
        "\n",
        "print(\"\\nAfter removing Vowels: \", result)"
      ],
      "metadata": {
        "colab": {
          "base_uri": "https://localhost:8080/"
        },
        "id": "Spl1NzZN90JD",
        "outputId": "eef53d85-9349-494c-c2ae-bbef310bbf06"
      },
      "execution_count": 39,
      "outputs": [
        {
          "output_type": "stream",
          "name": "stdout",
          "text": [
            "\n",
            "After removing Vowels:  Dt Scnc Btcmp\n"
          ]
        }
      ]
    },
    {
      "cell_type": "markdown",
      "source": [
        "20. Implement a function to reverse the order of words in a given sentence.\n"
      ],
      "metadata": {
        "id": "zi3UhAn5AF1g"
      }
    },
    {
      "cell_type": "code",
      "source": [
        "# To reverse words in a given string\n",
        "\n",
        "# input string\n",
        "string = \"Data Science and machine learning\"\n",
        "# reversing words in a given string\n",
        "s = string.split()[::-1]\n",
        "l = []\n",
        "for i in s:\n",
        "\t# appending reversed words to l\n",
        "\tl.append(i)\n",
        "\n",
        "print(\" \".join(l))\n"
      ],
      "metadata": {
        "colab": {
          "base_uri": "https://localhost:8080/"
        },
        "id": "_a5iCpGCAI4L",
        "outputId": "2bfca357-0eb9-43f6-b857-317569d6a411"
      },
      "execution_count": 40,
      "outputs": [
        {
          "output_type": "stream",
          "name": "stdout",
          "text": [
            "learning machine and Science Data\n"
          ]
        }
      ]
    },
    {
      "cell_type": "markdown",
      "source": [
        "21. Write a Python program to check if two strings are anagrams of each other."
      ],
      "metadata": {
        "id": "0Rfz_VTNAxiZ"
      }
    },
    {
      "cell_type": "code",
      "source": [
        "\n",
        "def checkanagram(s1, s2):\n",
        "\n",
        "\t# the sorted strings are checked\n",
        "\tif(sorted(s1)== sorted(s2)):\n",
        "\t\tprint(\"The strings are anagrams.\")\n",
        "\telse:\n",
        "\t\tprint(\"The strings aren't anagrams.\")\n",
        "\n",
        "\n",
        "s1 =\"abcde\"\n",
        "s2 =\"dabce\"\n",
        "checkanagram(s1, s2)"
      ],
      "metadata": {
        "colab": {
          "base_uri": "https://localhost:8080/"
        },
        "id": "GFZRt0CMA1Po",
        "outputId": "241987c9-d764-4588-e207-ee7d284028e3"
      },
      "execution_count": 41,
      "outputs": [
        {
          "output_type": "stream",
          "name": "stdout",
          "text": [
            "The strings are anagrams.\n"
          ]
        }
      ]
    },
    {
      "cell_type": "markdown",
      "source": [
        "22.Implement a function to find the first non-repeating character in a string."
      ],
      "metadata": {
        "id": "n_BuYCWeBFDv"
      }
    },
    {
      "cell_type": "code",
      "source": [
        "# first non-repeating character in a string\n",
        "\n",
        "def FirstNonRepeat(s):\n",
        "\n",
        "\tfor i in s:\n",
        "\n",
        "\t\tif (s.find(i, (s.find(i)+1))) == -1:\n",
        "\n",
        "\t\t\tprint(\"First non-repeating character is\", i)\n",
        "\n",
        "\t\t\tbreak\n",
        "\n",
        "\treturn\n",
        "\n",
        "\n",
        "s = 'DataScience'\n",
        "\n",
        "FirstNonRepeat(s)\n"
      ],
      "metadata": {
        "colab": {
          "base_uri": "https://localhost:8080/"
        },
        "id": "GhJZiQfUBIGf",
        "outputId": "b5e284c6-2f03-4a65-d9ac-1a3839bb9733"
      },
      "execution_count": 42,
      "outputs": [
        {
          "output_type": "stream",
          "name": "stdout",
          "text": [
            "First non-repeating character is D\n"
          ]
        }
      ]
    },
    {
      "cell_type": "markdown",
      "source": [
        "23. Write a program to find the prime factors of a given number."
      ],
      "metadata": {
        "id": "J6i7VDT4Bdfp"
      }
    },
    {
      "cell_type": "code",
      "source": [
        "def Prime_Factorial(n):\n",
        "    if n < 4:\n",
        "        return n\n",
        "    arr = []\n",
        "    while n > 1:\n",
        "        for i in range(2, int(2+n//2)):\n",
        "            if i == (1 + n // 2):\n",
        "                arr.append(n)\n",
        "                n = n // n\n",
        "            if n % i == 0:\n",
        "                arr.append(i)\n",
        "                n = n // i\n",
        "                break\n",
        "    return arr\n",
        "\n",
        "\n",
        "n = int(input(\"enter number for prime factor\"))\n",
        "print(Prime_Factorial(n))"
      ],
      "metadata": {
        "colab": {
          "base_uri": "https://localhost:8080/"
        },
        "id": "Vc7abSeRCg0n",
        "outputId": "973e226b-bd9f-4478-c653-6faaecf547fe"
      },
      "execution_count": 44,
      "outputs": [
        {
          "output_type": "stream",
          "name": "stdout",
          "text": [
            "enter number for prime factor100\n",
            "[2, 2, 5, 5]\n"
          ]
        }
      ]
    },
    {
      "cell_type": "markdown",
      "source": [
        "24. Implement a function to check if a given number is a power of two"
      ],
      "metadata": {
        "id": "GnIZLHt3Cttg"
      }
    },
    {
      "cell_type": "code",
      "source": [
        "\n",
        "# Function to check if given number is power of 2*/\n",
        "\n",
        "\n",
        "def isPowerofTwo(n):\n",
        "\n",
        "\tif (n == 0):\n",
        "\t\treturn 0\n",
        "\tif ((n & (~(n - 1))) == n):\n",
        "\t\treturn 1\n",
        "\treturn 0\n",
        "\n",
        "\n",
        "# Driver code\n",
        "if __name__ == \"__main__\":\n",
        "\n",
        "\t# Function call\n",
        "\tif(isPowerofTwo(30)):\n",
        "\t\tprint('Yes')\n",
        "\telse:\n",
        "\t\tprint('No')\n",
        "\n",
        "\tif(isPowerofTwo(128)):\n",
        "\t\tprint('Yes')\n",
        "\telse:\n",
        "\t\tprint('No')\n",
        "\n"
      ],
      "metadata": {
        "colab": {
          "base_uri": "https://localhost:8080/"
        },
        "id": "UkfrdymbCx3G",
        "outputId": "3c3f0ce3-5dd5-438a-dbef-925508ccc1e0"
      },
      "execution_count": 45,
      "outputs": [
        {
          "output_type": "stream",
          "name": "stdout",
          "text": [
            "No\n",
            "Yes\n"
          ]
        }
      ]
    },
    {
      "cell_type": "markdown",
      "source": [
        "25. Write a Python program to merge two sorted lists into a single sorted list."
      ],
      "metadata": {
        "id": "UZUQcP2FDURu"
      }
    },
    {
      "cell_type": "code",
      "source": [
        "# merge two sorted lists into a single sorted list.\n",
        "\n",
        "# initializing lists\n",
        "test_ls1 = [11, 35, 36, 79, 141]\n",
        "test_ls2 = [23, 74, 37, 98, 10]\n",
        "\n",
        "# printing original lists\n",
        "print (\"The original list 1 is : \" + str(test_ls1))\n",
        "print (\"The original list 2 is : \" + str(test_ls2))\n",
        "\n",
        "# using sorted()\n",
        "# to combine two sorted lists\n",
        "res = sorted(test_ls1 + test_ls2)\n",
        "\n",
        "# printing result\n",
        "print (\"The combined sorted list is : \" + str(res))\n"
      ],
      "metadata": {
        "colab": {
          "base_uri": "https://localhost:8080/"
        },
        "id": "KsXBdqSNDYle",
        "outputId": "acc1b87d-1287-4114-c7a0-3c15c05d980b"
      },
      "execution_count": 46,
      "outputs": [
        {
          "output_type": "stream",
          "name": "stdout",
          "text": [
            "The original list 1 is : [11, 35, 36, 79, 141]\n",
            "The original list 2 is : [23, 74, 37, 98, 10]\n",
            "The combined sorted list is : [10, 11, 23, 35, 36, 37, 74, 79, 98, 141]\n"
          ]
        }
      ]
    },
    {
      "cell_type": "markdown",
      "source": [
        "26 Implement a function to find the mode of a list of numbers."
      ],
      "metadata": {
        "id": "6PRuDhZ2Dutq"
      }
    },
    {
      "cell_type": "code",
      "source": [
        "A = [17, 30, 50, 99, 60, 80, 50,30,30]\n",
        "print(\"Mode of List A is % s\" % (max(set(A), key = A.count)))"
      ],
      "metadata": {
        "colab": {
          "base_uri": "https://localhost:8080/"
        },
        "id": "5pohZAuxEHmO",
        "outputId": "7cb3fe76-6d5c-4e8d-cbd1-62649314000b"
      },
      "execution_count": 48,
      "outputs": [
        {
          "output_type": "stream",
          "name": "stdout",
          "text": [
            "Mode of List A is 30\n"
          ]
        }
      ]
    },
    {
      "cell_type": "markdown",
      "source": [
        "27. Write a program to find the greatest common divisor (GCD) of two numbers"
      ],
      "metadata": {
        "id": "W2uMOLc7EXDV"
      }
    },
    {
      "cell_type": "code",
      "source": [
        "# greatest common divisor (GCD) of two numbers\n",
        "\n",
        "def GCD(a, b):\n",
        "\tif(b == 0):\n",
        "\t\treturn a\n",
        "\telse:\n",
        "\t\treturn GCD(b, a % b)\n",
        "\n",
        "a = 60\n",
        "b = 48\n",
        "\n",
        "\n",
        "print(\"The gcd of 60 and 48 is : \", end=\"\")\n",
        "print(GCD(60, 72))\n"
      ],
      "metadata": {
        "colab": {
          "base_uri": "https://localhost:8080/"
        },
        "id": "MeBP_kY-EyQV",
        "outputId": "5f800eb7-1607-48db-c2b9-99cfec342aa0"
      },
      "execution_count": 49,
      "outputs": [
        {
          "output_type": "stream",
          "name": "stdout",
          "text": [
            "The gcd of 60 and 48 is : 12\n"
          ]
        }
      ]
    },
    {
      "cell_type": "markdown",
      "source": [
        "28. Implement a function to calculate the square root of a given number."
      ],
      "metadata": {
        "id": "on2OBkfnFBVt"
      }
    },
    {
      "cell_type": "code",
      "source": [
        "#calculate the square root of a given number.\n",
        "\n",
        "\n",
        "def countSqrt(x):\n",
        "\n",
        "    if (x == 0 or x == 1):\n",
        "        return x\n",
        "\n",
        "    # Starting from 1, try all numbers until\n",
        "    # i*i is greater than or equal to x.\n",
        "    i = 1\n",
        "    result = 1\n",
        "    while (result <= x):\n",
        "\n",
        "        i += 1\n",
        "        result = i * i\n",
        "\n",
        "    return i - 1\n",
        "x = 16\n",
        "print(countSqrt(x))\n"
      ],
      "metadata": {
        "colab": {
          "base_uri": "https://localhost:8080/"
        },
        "id": "B39-kIArFVm2",
        "outputId": "06778b96-6a3b-4b78-fe36-015dbe471698"
      },
      "execution_count": 51,
      "outputs": [
        {
          "output_type": "stream",
          "name": "stdout",
          "text": [
            "4\n"
          ]
        }
      ]
    },
    {
      "cell_type": "markdown",
      "source": [
        "29. Write a Python program to check if a given string is a valid palindrome ignoring non-alphanumeric characters."
      ],
      "metadata": {
        "id": "JQjOA5IiGRw4"
      }
    },
    {
      "cell_type": "code",
      "source": [
        "# if a given string is a valid palindrome\n",
        "\n",
        "def isPalindrome(s):\n",
        "\treturn s == s[::-1]\n",
        "\n",
        "\n",
        "# Driver code\n",
        "s = input(\"enter string\")\n",
        "ans = isPalindrome(s)\n",
        "\n",
        "if ans:\n",
        "\tprint(\"its a palindrome\")\n",
        "else:\n",
        "\tprint(\"Not a palindrome\")\n"
      ],
      "metadata": {
        "colab": {
          "base_uri": "https://localhost:8080/"
        },
        "id": "kJ4oT9opGVUE",
        "outputId": "0f17aa51-5a6c-4118-ca75-ca208c6b05c8"
      },
      "execution_count": 53,
      "outputs": [
        {
          "output_type": "stream",
          "name": "stdout",
          "text": [
            "enter stringbab\n",
            "its a palindrome\n"
          ]
        }
      ]
    },
    {
      "cell_type": "markdown",
      "source": [
        "30. Implement a function to find the minimum element in a rotated sorted list."
      ],
      "metadata": {
        "id": "Oifmbks7HUls"
      }
    },
    {
      "cell_type": "code",
      "source": [
        "from typing import List\n",
        "\n",
        "def find_minimum(arr: List[int]) -> int:\n",
        "\treturn min(arr)\n",
        "\n",
        "v = [55, 36, 11, 72, 34, 42]\n",
        "print(\"The Minimum Element in the vector is: \", find_minimum(v))\n"
      ],
      "metadata": {
        "colab": {
          "base_uri": "https://localhost:8080/"
        },
        "id": "l3B8qnWSHZPP",
        "outputId": "88ab49e7-101d-445f-f4ee-bab745cdf38c"
      },
      "execution_count": 55,
      "outputs": [
        {
          "output_type": "stream",
          "name": "stdout",
          "text": [
            "The Minimum Element in the vector is:  11\n"
          ]
        }
      ]
    },
    {
      "cell_type": "markdown",
      "source": [
        "31. Write a program to find the sum of all even numbers in a list."
      ],
      "metadata": {
        "id": "EefsfuycH1Ws"
      }
    },
    {
      "cell_type": "code",
      "source": [
        "# find the sum of all even numbers in a list.\n",
        "test_list = [34, 86, 18, 34, 246]\n",
        "\n",
        "# printing original list\n",
        "print(\"The original list is : \" + str(test_list))\n",
        "\n",
        "even_sum = 0\n",
        "\n",
        "for sub in test_list:\n",
        "\tfor ele in str(sub):\n",
        "\n",
        "\n",
        "\t\tif int(ele) % 2 == 0:\n",
        "\t\t\teven_sum += int(ele)\n",
        "\n",
        "print(\"Even digit sum : \" + str(even_sum))\n"
      ],
      "metadata": {
        "colab": {
          "base_uri": "https://localhost:8080/"
        },
        "id": "oMSHRaMyH3lk",
        "outputId": "11ae2710-fb8d-4b0c-f804-3e1981318a95"
      },
      "execution_count": 57,
      "outputs": [
        {
          "output_type": "stream",
          "name": "stdout",
          "text": [
            "The original list is : [34, 86, 18, 34, 246]\n",
            "Even digit sum : 42\n"
          ]
        }
      ]
    },
    {
      "cell_type": "markdown",
      "source": [
        "32. Implement a function to calculate the power of a number using recursion."
      ],
      "metadata": {
        "id": "Ka1W8DQRIw3l"
      }
    },
    {
      "cell_type": "code",
      "source": [
        "def power(base,exp):\n",
        "    if(exp==1):\n",
        "        return(base)\n",
        "    if(exp!=1):\n",
        "        return(base*power(base,exp-1))\n",
        "base=int(input(\"Enter base: \"))\n",
        "exp=int(input(\"Enter exponential value: \"))\n",
        "print(\"Result:\",power(base,exp))"
      ],
      "metadata": {
        "colab": {
          "base_uri": "https://localhost:8080/"
        },
        "id": "gOZx4WwgIyvT",
        "outputId": "605a04a1-cc81-4c3a-9fb3-532da280ca1d"
      },
      "execution_count": 58,
      "outputs": [
        {
          "output_type": "stream",
          "name": "stdout",
          "text": [
            "Enter base: 3\n",
            "Enter exponential value: 2\n",
            "Result: 9\n"
          ]
        }
      ]
    },
    {
      "cell_type": "markdown",
      "source": [
        "33. Write a Python program to remove duplicates from a list while preserving the order."
      ],
      "metadata": {
        "id": "BioT7qb3RDXf"
      }
    },
    {
      "cell_type": "code",
      "source": [
        "from collections import OrderedDict\n",
        "def remove_duplicates(lst):\n",
        "    return list(OrderedDict.fromkeys(lst))\n",
        "\n",
        "nums = [10,21,40,21,53,40,62,93,21,11]\n",
        "print(\"Original lists:\")\n",
        "print(nums)\n",
        "result = remove_duplicates(nums)\n",
        "\n",
        "print(\"Remove duplicates from the said list while preserving the order:\")\n",
        "print(result)\n"
      ],
      "metadata": {
        "colab": {
          "base_uri": "https://localhost:8080/"
        },
        "id": "-kBTvnZyRfpm",
        "outputId": "d188eb8d-45e8-4649-d74e-a4507fd8d4f4"
      },
      "execution_count": 61,
      "outputs": [
        {
          "output_type": "stream",
          "name": "stdout",
          "text": [
            "Original lists:\n",
            "[10, 21, 40, 21, 53, 40, 62, 93, 21, 11]\n",
            "Remove duplicates from the said list while preserving the order:\n",
            "[10, 21, 40, 53, 62, 93, 11]\n"
          ]
        }
      ]
    },
    {
      "cell_type": "markdown",
      "source": [
        "34. Implement a function to find the longest common prefix among a list of strings."
      ],
      "metadata": {
        "id": "mHmZfWYGRzF_"
      }
    },
    {
      "cell_type": "code",
      "source": [
        "# find the longest common prefix among a list of strings..\n",
        "def longestCommonPrefix(S):\n",
        "    if \"\" in S or S == []:\n",
        "        return \"\"\n",
        "    preix = S[0]\n",
        "    for i in range(1,len(S)):\n",
        "        while(preix != \"\"):\n",
        "            try:\n",
        "                if str.index(str(S[i]),preix) == 0:\n",
        "                    break\n",
        "                else:\n",
        "                    preix = preix[:-1]\n",
        "            except:\n",
        "\n",
        "                preix = preix[:-1]\n",
        "    return preix\n",
        "\n",
        "if __name__ == \"__main__\":\n",
        "    # Your code goes here\n",
        "    s = ['flower', 'flow', 'flight']\n",
        "    print(longestCommonPrefix(s))\n",
        "\n"
      ],
      "metadata": {
        "colab": {
          "base_uri": "https://localhost:8080/"
        },
        "id": "0hTE3ZgfR3lY",
        "outputId": "0015dd83-cec7-4892-ecf6-cff42db22b30"
      },
      "execution_count": 64,
      "outputs": [
        {
          "output_type": "stream",
          "name": "stdout",
          "text": [
            "fl\n"
          ]
        }
      ]
    },
    {
      "cell_type": "markdown",
      "source": [
        "35. Write a program to check if a given number is a perfect square."
      ],
      "metadata": {
        "id": "Q_Vn5rB_UMEv"
      }
    },
    {
      "cell_type": "code",
      "source": [
        "# Python program to find if x is a\n",
        "\n",
        "n = 1600\n",
        "\n",
        "for i in range(n+1):\n",
        "\tif i**2 == n:\n",
        "\t\tprint(\"perfect square\")\n",
        "\t\tbreak\n",
        "else:\n",
        "\tprint(\"Not perfect square\")\n"
      ],
      "metadata": {
        "colab": {
          "base_uri": "https://localhost:8080/"
        },
        "id": "DTAJ6Xz1U6sN",
        "outputId": "955286e7-d0e9-4313-90e9-9872869d411c"
      },
      "execution_count": 66,
      "outputs": [
        {
          "output_type": "stream",
          "name": "stdout",
          "text": [
            "perfect square\n"
          ]
        }
      ]
    },
    {
      "cell_type": "markdown",
      "source": [
        "36. Implement a function to calculate the product of all elements in a list."
      ],
      "metadata": {
        "id": "-IbZkfyTVb1l"
      }
    },
    {
      "cell_type": "code",
      "source": [
        "# calculate the product of all elements in a list.\n",
        "\n",
        "def multiplyList(myList):\n",
        "\n",
        "\t# Multiply elements\n",
        "\tresult = 1\n",
        "\tfor x in myList:\n",
        "\t\tresult = result * x\n",
        "\treturn result\n",
        "\n",
        "\n",
        "list1 = [4, 2, 4]\n",
        "\n",
        "print(multiplyList(list1))\n",
        "\n"
      ],
      "metadata": {
        "colab": {
          "base_uri": "https://localhost:8080/"
        },
        "id": "n1ZcJxG2Vd7N",
        "outputId": "e2ea6813-f47e-4925-bacf-dc2339e6047e"
      },
      "execution_count": 67,
      "outputs": [
        {
          "output_type": "stream",
          "name": "stdout",
          "text": [
            "32\n"
          ]
        }
      ]
    },
    {
      "cell_type": "markdown",
      "source": [
        "37. Write a Python program to reverse the order of words in a sentence while preserving the word order."
      ],
      "metadata": {
        "id": "ieLzgRGcVjdV"
      }
    },
    {
      "cell_type": "code",
      "source": [
        "# reverse the order of words in a sentence while preserving the word order.\n",
        "\n",
        "\n",
        "def reverseWordSentence(Sentence):\n",
        "\n",
        "\t# All in One line\n",
        "\treturn ' '.join(word[::-1] for word in Sentence.split(\" \"))\n",
        "\n",
        "# Driver's Code\n",
        "Sentence = \"iNeuron is good to learn\"\n",
        "print(reverseWordSentence(Sentence))\n"
      ],
      "metadata": {
        "colab": {
          "base_uri": "https://localhost:8080/"
        },
        "id": "oeFM0aOaWNYe",
        "outputId": "b22d61a5-ef13-4f1c-b3bb-63d7421601da"
      },
      "execution_count": 69,
      "outputs": [
        {
          "output_type": "stream",
          "name": "stdout",
          "text": [
            "norueNi si doog ot nrael\n"
          ]
        }
      ]
    },
    {
      "cell_type": "markdown",
      "source": [
        "38. Implement a function to find the missing number in a given list of consecutive numbers."
      ],
      "metadata": {
        "id": "z9XvIsxaWa19"
      }
    },
    {
      "cell_type": "code",
      "source": [
        "# find the missing number in a given list of consecutive numbers.\n",
        "def findMissing(arr, n):\n",
        "\n",
        "\tl, h = 0, n - 1\n",
        "\tmid = 0\n",
        "\n",
        "\twhile (h > l):\n",
        "\n",
        "\t\tmid = l + (h - l) // 2\n",
        "\n",
        "\t\t# Check if middle element is consistent\n",
        "\t\tif (arr[mid] - mid == arr[0]):\n",
        "\n",
        "\t\t\t# No inconsistency till middle elements\n",
        "\t\t\t# When missing element is just after\n",
        "\t\t\t# the middle element\n",
        "\t\t\tif (arr[mid + 1] - arr[mid] > 1):\n",
        "\t\t\t\treturn arr[mid] + 1\n",
        "\t\t\telse:\n",
        "\n",
        "\t\t\t\t# Move right\n",
        "\t\t\t\tl = mid + 1\n",
        "\n",
        "\t\telse:\n",
        "\n",
        "\n",
        "\t\t\tif (arr[mid] - arr[mid - 1] > 1):\n",
        "\t\t\t\treturn arr[mid] - 1\n",
        "\t\t\telse:\n",
        "\n",
        "\t\t\t\t# Move left\n",
        "\t\t\t\th = mid - 1\n",
        "\n",
        "\n",
        "\treturn -1\n",
        "\n",
        "\n",
        "arr = [-9, -8, -7, -5, -4, -3, -2, -1, 0 ]\n",
        "n = len(arr)\n",
        "\n",
        "print(findMissing(arr, n))\n",
        "\n"
      ],
      "metadata": {
        "colab": {
          "base_uri": "https://localhost:8080/"
        },
        "id": "szQ504dGWlic",
        "outputId": "feed161b-c166-49a1-d2a1-83175471313a"
      },
      "execution_count": 78,
      "outputs": [
        {
          "output_type": "stream",
          "name": "stdout",
          "text": [
            "-6\n"
          ]
        }
      ]
    },
    {
      "cell_type": "markdown",
      "source": [
        "39. Write a program to find the sum of digits of a given number."
      ],
      "metadata": {
        "id": "I84m-SVYWl3F"
      }
    },
    {
      "cell_type": "code",
      "source": [
        "# find the sum of digits of a given number.\n",
        "\n",
        "\n",
        "def getSum(n):\n",
        "\n",
        "\tstrr = str(n)\n",
        "\tlist_of_number = list(map(int, strr.strip()))\n",
        "\treturn sum(list_of_number)\n",
        "\n",
        "n = 67\n",
        "print(getSum(n))\n",
        "\n",
        "\n"
      ],
      "metadata": {
        "colab": {
          "base_uri": "https://localhost:8080/"
        },
        "id": "F5PIZTyTXxFV",
        "outputId": "eca35651-a60f-402b-a505-12ac48f44674"
      },
      "execution_count": 86,
      "outputs": [
        {
          "output_type": "stream",
          "name": "stdout",
          "text": [
            "13\n"
          ]
        }
      ]
    },
    {
      "cell_type": "markdown",
      "source": [
        "40. Implement a function to check if a given string is a valid palindrome considering case sensitivity."
      ],
      "metadata": {
        "id": "ag9CZ2U5YYEc"
      }
    },
    {
      "cell_type": "code",
      "source": [
        "def isPalindrome(s):\n",
        "\n",
        "    i = 0\n",
        "    j = len(s) - 1\n",
        "    while i < j:\n",
        "        if s[i] != s[j]:\n",
        "            return False\n",
        "        i = i + 1\n",
        "        j = j - 1\n",
        "\n",
        "    return True\n",
        "\n",
        "\n",
        "if __name__ == '__main__':\n",
        "\n",
        "    s = 'XYXyx'\n",
        "\n",
        "    if isPalindrome(s):\n",
        "        print('Palindrome')\n",
        "    else:\n",
        "        print('Not Palindrome')"
      ],
      "metadata": {
        "colab": {
          "base_uri": "https://localhost:8080/"
        },
        "id": "NFNpVbBLYkhE",
        "outputId": "677e9e5a-bfec-455d-a2df-26291136020f"
      },
      "execution_count": 88,
      "outputs": [
        {
          "output_type": "stream",
          "name": "stdout",
          "text": [
            "Not Palindrome\n"
          ]
        }
      ]
    },
    {
      "cell_type": "markdown",
      "source": [
        "41. Write a Python program to find the smallest missing positive integer in a list."
      ],
      "metadata": {
        "id": "gNLrZkQ-YgxU"
      }
    },
    {
      "cell_type": "code",
      "source": [
        "# Python program to find the smallest element missing in a sorted array.\n",
        "\n",
        "def findFirstMissing(arr, n, m):\n",
        "\tvec = [0] * m\n",
        "\n",
        "\tfor i in range(n):\n",
        "\t\tvec[arr[i]] = 1\n",
        "\n",
        "\tfor i in range(m):\n",
        "\t\tif vec[i] == 0:\n",
        "\t\t\treturn i\n",
        "\n",
        "\treturn m\n",
        "\n",
        "arr = [0,1,3,4,5,6,7]\n",
        "n = len(arr)\n",
        "m = 11\n",
        "print(\"Smallest missing element is\", findFirstMissing(arr, n, m))\n"
      ],
      "metadata": {
        "colab": {
          "base_uri": "https://localhost:8080/"
        },
        "id": "zycnczcpaF0J",
        "outputId": "8946fe9a-3a45-4b0f-a2fb-51d2ae590cdf"
      },
      "execution_count": 90,
      "outputs": [
        {
          "output_type": "stream",
          "name": "stdout",
          "text": [
            "Smallest missing element is 2\n"
          ]
        }
      ]
    },
    {
      "cell_type": "markdown",
      "source": [
        "42. Implement a function to find the longest palindrome substring in a given string."
      ],
      "metadata": {
        "id": "M9yhzQRTaGMU"
      }
    },
    {
      "cell_type": "code",
      "source": [
        "def longest_palindrome_substring(s):\n",
        "    if not s:\n",
        "        return \"\"\n",
        "\n",
        "    def expand_around_center(left, right):\n",
        "        while left >= 0 and right < len(s) and s[left] == s[right]:\n",
        "            left -= 1\n",
        "            right += 1\n",
        "        return s[left + 1:right]\n",
        "\n",
        "    longest_palindrome = \"\"\n",
        "\n",
        "    for i in range(len(s)):\n",
        "        # Check for odd-length palindromes\n",
        "        palindrome_odd = expand_around_center(i, i)\n",
        "        if len(palindrome_odd) > len(longest_palindrome):\n",
        "            longest_palindrome = palindrome_odd\n",
        "\n",
        "        # Check for even-length palindromes\n",
        "        palindrome_even = expand_around_center(i, i + 1)\n",
        "        if len(palindrome_even) > len(longest_palindrome):\n",
        "            longest_palindrome = palindrome_even\n",
        "\n",
        "    return longest_palindrome\n",
        "s = \"babad\"\n",
        "result = longest_palindrome_substring(s)\n",
        "print(result)"
      ],
      "metadata": {
        "colab": {
          "base_uri": "https://localhost:8080/"
        },
        "id": "hWepfuspcA6W",
        "outputId": "ff518fef-1d83-44b5-ca1a-ab43deb1fdb5"
      },
      "execution_count": 94,
      "outputs": [
        {
          "output_type": "stream",
          "name": "stdout",
          "text": [
            "bab\n"
          ]
        }
      ]
    },
    {
      "cell_type": "markdown",
      "source": [
        "43. Write a program to find the number of occurrences of a given element in a list."
      ],
      "metadata": {
        "id": "7A5gBs46bbQk"
      }
    },
    {
      "cell_type": "code",
      "source": [
        "# count the occurrence of each element in a list.\n",
        "def checkcountoccur(lst, x):\n",
        "\treturn lst.count(x)\n",
        "\n",
        "lst = [19, 16, 19, 20, 18, 17, 18, 28, 28]\n",
        "x = 18\n",
        "print('{} has occurred {} times'.format(x,\n",
        "\t\t\t\t\t\t\t\t\t\tcheckcountoccur(lst, x)))\n"
      ],
      "metadata": {
        "colab": {
          "base_uri": "https://localhost:8080/"
        },
        "id": "rJxmgX_tbmY0",
        "outputId": "0a119292-73e8-40f6-da74-e96ad80aead2"
      },
      "execution_count": 92,
      "outputs": [
        {
          "output_type": "stream",
          "name": "stdout",
          "text": [
            "18 has occurred 2 times\n"
          ]
        }
      ]
    },
    {
      "cell_type": "markdown",
      "source": [
        "44. Implement a function to check if a given number is a perfect number."
      ],
      "metadata": {
        "id": "x6LkWlyXb0fa"
      }
    },
    {
      "cell_type": "code",
      "source": [
        "def is_perfect_number(num):\n",
        "    if num <= 0:\n",
        "        return False\n",
        "\n",
        "    divisor_sum = 0\n",
        "\n",
        "    for i in range(1, num):\n",
        "        if num % i == 0:\n",
        "            divisor_sum += i\n",
        "\n",
        "    return divisor_sum == num\n",
        "num = 28\n",
        "result = is_perfect_number(num)\n",
        "print(result)"
      ],
      "metadata": {
        "colab": {
          "base_uri": "https://localhost:8080/"
        },
        "id": "h9vj8-0ycTQ_",
        "outputId": "2be427dd-887c-4dd7-941d-db6a33783f90"
      },
      "execution_count": 107,
      "outputs": [
        {
          "output_type": "stream",
          "name": "stdout",
          "text": [
            "True\n"
          ]
        }
      ]
    },
    {
      "cell_type": "markdown",
      "source": [
        "45.Write a Python program to remove all duplicates from a string."
      ],
      "metadata": {
        "id": "24ev36A4djOd"
      }
    },
    {
      "cell_type": "code",
      "source": [
        "from collections import OrderedDict\n",
        "def remove_duplicates(lst):\n",
        "    return list(OrderedDict.fromkeys(lst))\n",
        "\n",
        "nums = [\"a\",\"b\",\"a\",\"n\",\"h\",\"r\",\"e\",\"t\",\"t\",\"r\"]\n",
        "print(\"Original lists:\")\n",
        "print(nums)\n",
        "result = remove_duplicates(nums)\n",
        "\n",
        "print(\"Remove duplicates from the said list while preserving the order:\")\n",
        "print(result)"
      ],
      "metadata": {
        "colab": {
          "base_uri": "https://localhost:8080/"
        },
        "id": "gwhWePx-duRZ",
        "outputId": "ef50bf63-935f-4af1-edc0-74ad580e45a6"
      },
      "execution_count": 108,
      "outputs": [
        {
          "output_type": "stream",
          "name": "stdout",
          "text": [
            "Original lists:\n",
            "['a', 'b', 'a', 'n', 'h', 'r', 'e', 't', 't', 'r']\n",
            "Remove duplicates from the said list while preserving the order:\n",
            "['a', 'b', 'n', 'h', 'r', 'e', 't']\n"
          ]
        }
      ]
    },
    {
      "cell_type": "markdown",
      "source": [
        "46.Implement a function to find the first missing positive"
      ],
      "metadata": {
        "id": "mJtpZIpYd7zh"
      }
    },
    {
      "cell_type": "code",
      "source": [
        "def find_first_missing_positive(nums):\n",
        "    n = len(nums)\n",
        "\n",
        "\n",
        "    i = 0\n",
        "    while i < n:\n",
        "        if nums[i] <= 0 or nums[i] > n:\n",
        "            i += 1\n",
        "        elif nums[nums[i] - 1] != nums[i]:\n",
        "            nums[nums[i] - 1], nums[i] = nums[i], nums[nums[i] - 1]\n",
        "        else:\n",
        "            i += 1\n",
        "\n",
        "\n",
        "    for i in range(n):\n",
        "        if nums[i] != i + 1:\n",
        "            return i + 1\n",
        "\n",
        "\n",
        "    return n + 1\n",
        "nums = [3, 4, -1, 1]\n",
        "result = find_first_missing_positive(nums)\n",
        "print(result)"
      ],
      "metadata": {
        "colab": {
          "base_uri": "https://localhost:8080/"
        },
        "id": "T3k4iRHOehaJ",
        "outputId": "c5975f05-6ff2-46f3-b50c-36848a916cdd"
      },
      "execution_count": 109,
      "outputs": [
        {
          "output_type": "stream",
          "name": "stdout",
          "text": [
            "2\n"
          ]
        }
      ]
    }
  ]
}