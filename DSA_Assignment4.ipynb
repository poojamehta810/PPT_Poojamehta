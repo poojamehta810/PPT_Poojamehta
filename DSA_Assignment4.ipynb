{
  "nbformat": 4,
  "nbformat_minor": 0,
  "metadata": {
    "colab": {
      "provenance": []
    },
    "kernelspec": {
      "name": "python3",
      "display_name": "Python 3"
    },
    "language_info": {
      "name": "python"
    }
  },
  "cells": [
    {
      "cell_type": "markdown",
      "source": [
        "\n",
        "** Question 1**\n",
        "Given three integer arrays arr1, arr2 and arr3 **sorted** in **strictly increasing** order, return a sorted array of **only** the integers that appeared in **all** three arrays.\n",
        "\n",
        "**Example 1:**\n",
        "\n",
        "Input: arr1 = [1,2,3,4,5], arr2 = [1,2,5,7,9], arr3 = [1,3,4,5,8]\n",
        "\n",
        "Output: [1,5]\n",
        "\n",
        "**Explanation:** Only 1 and 5 appeared in the three arrays."
      ],
      "metadata": {
        "id": "wEhTArkVdhSX"
      }
    },
    {
      "cell_type": "code",
      "execution_count": null,
      "metadata": {
        "colab": {
          "base_uri": "https://localhost:8080/"
        },
        "id": "gCr8Q_WidgXR",
        "outputId": "8c1380d3-0c2b-4a44-d750-9133018215e9"
      },
      "outputs": [
        {
          "output_type": "stream",
          "name": "stdout",
          "text": [
            "Common Elements are \n",
            "1 5 "
          ]
        }
      ],
      "source": [
        "\n",
        "def findCommon(a, b, c, n1, n2, n3):\n",
        "\n",
        "\t# three sets to maintain frequency of elements\n",
        "\tuset = set()\n",
        "\tuset2 = set()\n",
        "\tuset3 = set()\n",
        "\tfor i in range(n1):\n",
        "\t\tuset.add(a[i])\n",
        "\n",
        "\tfor i in range(n2):\n",
        "\t\tuset2.add(b[i])\n",
        "\n",
        "\t# checking if elements of 3rd array are present in first 2 sets\n",
        "\tfor i in range(n3):\n",
        "\n",
        "\t\tif(c[i] in uset and c[i] in uset2):\n",
        "\n",
        "\t\t\t# using a 3rd set to prevent duplicates\n",
        "\t\t\tif c[i] not in uset3:\n",
        "\t\t\t\tprint(c[i], end = \" \")\n",
        "\t\t\tuset3.add(c[i])\n",
        "\n",
        "# input values\n",
        "ar1 = [ 1,2,3,4,5 ]\n",
        "ar2 = [ 1,2,5,7,9 ]\n",
        "ar3 = [ 1,3,4,5,8 ]\n",
        "n1 = len(ar1)\n",
        "n2 = len(ar2)\n",
        "n3 = len(ar3)\n",
        "\n",
        "print(\"Common Elements are \")\n",
        "findCommon(ar1, ar2, ar3, n1, n2, n3)\n",
        "\n"
      ]
    },
    {
      "cell_type": "markdown",
      "source": [
        "\n",
        "**Question 2**\n",
        "\n",
        "Given two **0-indexed** integer arrays nums1 and nums2, return *a list* answer *of size* 2 *where:*\n",
        "\n",
        "- answer[0] *is a list of all **distinct** integers in* nums1 *which are **not** present in* nums2*.*\n",
        "- answer[1] *is a list of all **distinct** integers in* nums2 *which are **not** present in* nums1.\n",
        "\n",
        "**Note** that the integers in the lists may be returned in **any** order.\n",
        "\n",
        "**Example 1:**\n",
        "\n",
        "**Input:** nums1 = [1,2,3], nums2 = [2,4,6]\n",
        "\n",
        "**Output:** [[1,3],[4,6]]\n",
        "\n",
        "**Explanation:**\n",
        "\n",
        "For nums1, nums1[1] = 2 is present at index 0 of nums2, whereas nums1[0] = 1 and nums1[2] = 3 are not present in nums2. Therefore, answer[0] = [1,3].\n",
        "\n",
        "For nums2, nums2[0] = 2 is present at index 1 of nums1, whereas nums2[1] = 4 and nums2[2] = 6 are not present in nums2. Therefore, answer[1] = [4,6].\n",
        "\n"
      ],
      "metadata": {
        "id": "yn-c7phQghzr"
      }
    },
    {
      "cell_type": "code",
      "source": [
        "def find_missing_elements(nums1, nums2):\n",
        "    distinct_nums1 = set(nums1)\n",
        "    distinct_nums2 = set(nums2)\n",
        "\n",
        "    missing_in_nums1 = list(distinct_nums1 - distinct_nums2)\n",
        "    missing_in_nums2 = list(distinct_nums2 - distinct_nums1)\n",
        "\n",
        "    return [missing_in_nums1, missing_in_nums2]\n",
        "\n",
        "\n",
        "# Example usage\n",
        "nums1 = [1, 2, 3]\n",
        "nums2 = [2,4,6]\n",
        "result = find_missing_elements(nums1, nums2)\n",
        "print(\"Distinct integers in nums1 not present in nums2:\", result[0])\n",
        "print(\"Distinct integers in nums2 not present in nums1:\", result[1])\n",
        "\n"
      ],
      "metadata": {
        "colab": {
          "base_uri": "https://localhost:8080/"
        },
        "id": "ZGW0o0INg_HQ",
        "outputId": "54281591-55aa-43f1-c6b7-433b54263c0d"
      },
      "execution_count": null,
      "outputs": [
        {
          "output_type": "stream",
          "name": "stdout",
          "text": [
            "Distinct integers in nums1 not present in nums2: [1, 3]\n",
            "Distinct integers in nums2 not present in nums1: [4, 6]\n"
          ]
        }
      ]
    },
    {
      "cell_type": "markdown",
      "source": [
        "\n",
        " **Question 3**\n",
        "Given a 2D integer array matrix, return *the **transpose** of* matrix.\n",
        "\n",
        "The **transpose** of a matrix is the matrix flipped over its main diagonal, switching the matrix's row and column indices.\n",
        "\n",
        "**Example 1:**\n",
        "\n",
        "Input: matrix = [[1,2,3],[4,5,6],[7,8,9]]\n",
        "\n",
        "Output: [[1,4,7],[2,5,8],[3,6,9]]\n",
        "\n"
      ],
      "metadata": {
        "id": "m9hRb4HVnMtP"
      }
    },
    {
      "cell_type": "code",
      "source": [
        "#Initialize matrix a\n",
        "a = [\n",
        "        [1, 2, 3],\n",
        "        [4, 5, 6],\n",
        "        [7, 8, 9]\n",
        "    ];\n",
        "\n",
        "#Calculates number of rows and columns present in given matrix\n",
        "rows = len(a);\n",
        "cols = len(a[0]);\n",
        "\n",
        "#Declare array t with reverse dimensions and is initialized with zeroes.\n",
        "t = [[0]*rows for i in range(cols)];\n",
        "\n",
        "#Calculates transpose of given matrix\n",
        "for i in range(0, cols):\n",
        "    for j in range(0, rows):\n",
        "        #Converts the row of original matrix into column of transposed matrix\n",
        "        t[i][j] = a[j][i];\n",
        "\n",
        "print(\"Transpose of given matrix: \");\n",
        "for i in range(0, cols):\n",
        "    for j in range(0, rows):\n",
        "        print(t[i][j]),\n",
        "\n",
        "    print(\" \");"
      ],
      "metadata": {
        "colab": {
          "base_uri": "https://localhost:8080/"
        },
        "id": "YFbfDGgiBQ2Z",
        "outputId": "4a67d98d-2c9f-4d51-ad47-ff4de69cc927"
      },
      "execution_count": 1,
      "outputs": [
        {
          "output_type": "stream",
          "name": "stdout",
          "text": [
            "Transpose of given matrix: \n",
            "1\n",
            "4\n",
            "7\n",
            " \n",
            "2\n",
            "5\n",
            "8\n",
            " \n",
            "3\n",
            "6\n",
            "9\n",
            " \n"
          ]
        }
      ]
    },
    {
      "cell_type": "markdown",
      "source": [
        "\n",
        "**Question 4**\n",
        "Given an integer array nums of 2n integers, group these integers into n pairs (a1, b1), (a2, b2), ..., (an, bn) such that the sum of min(ai, bi) for all i is **maximized**. Return *the maximized sum*.\n",
        "\n",
        "**Example 1:**\n",
        "\n",
        "Input: nums = [1,4,3,2]\n",
        "\n",
        "Output: 4\n",
        "\n",
        "**Explanation:** All possible pairings (ignoring the ordering of elements) are:\n",
        "\n",
        "1. (1, 4), (2, 3) -> min(1, 4) + min(2, 3) = 1 + 2 = 3\n",
        "\n",
        "2. (1, 3), (2, 4) -> min(1, 3) + min(2, 4) = 1 + 2 = 3\n",
        "\n",
        "3. (1, 2), (3, 4) -> min(1, 2) + min(3, 4) = 1 + 3 = 4\n",
        "\n",
        "So the maximum possible sum is 4.\n",
        "\n"
      ],
      "metadata": {
        "id": "4fE3AVcsBfvZ"
      }
    },
    {
      "cell_type": "code",
      "source": [
        "def array_pair_sum(nums):\n",
        "    nums.sort()  # Sort the array in ascending order\n",
        "    max_sum = 0\n",
        "    for i in range(0, len(nums), 2):\n",
        "        max_sum += nums[i]\n",
        "    return max_sum\n",
        "\n",
        "nums = [1, 4, 3, 2]\n",
        "maximized_sum = array_pair_sum(nums)\n",
        "print(\"Maximized sum:\", maximized_sum)\n"
      ],
      "metadata": {
        "colab": {
          "base_uri": "https://localhost:8080/"
        },
        "id": "cYVlRPLQIzrQ",
        "outputId": "fa46ec96-e9aa-4f4b-8d0e-1a141a84da45"
      },
      "execution_count": 10,
      "outputs": [
        {
          "output_type": "stream",
          "name": "stdout",
          "text": [
            "Maximized sum: 4\n"
          ]
        }
      ]
    },
    {
      "cell_type": "markdown",
      "source": [
        "\n",
        " **Question 5**\n",
        "You have n coins and you want to build a staircase with these coins. The staircase consists of k rows where the ith row has exactly i coins. The last row of the staircase **may be** incomplete.\n",
        "\n",
        "Given the integer n, return *the number of **complete rows** of the staircase you will build*.\n",
        "\n",
        "**Input:** n = 5\n",
        "\n",
        "**Output:** 2\n",
        "\n",
        "**Explanation:** Because the 3rd row is incomplete, we return 2."
      ],
      "metadata": {
        "id": "HqSLizp5JA9O"
      }
    },
    {
      "cell_type": "code",
      "source": [
        "def arr_staircase_coins(n):\n",
        "    count = 0\n",
        "    while n >= count + 1:\n",
        "        count += 1\n",
        "        n -= count\n",
        "    return count\n",
        "\n",
        "# Test the function with example input\n",
        "n = 5\n",
        "complete_rows = arr_staircase_coins(n)\n",
        "print(\"Number of complete rows:\", complete_rows)\n"
      ],
      "metadata": {
        "colab": {
          "base_uri": "https://localhost:8080/"
        },
        "id": "lADpfNgBJra-",
        "outputId": "1dfead2a-9f6f-4d07-a2ca-4a8f9e2a82f8"
      },
      "execution_count": 12,
      "outputs": [
        {
          "output_type": "stream",
          "name": "stdout",
          "text": [
            "Number of complete rows: 2\n"
          ]
        }
      ]
    },
    {
      "cell_type": "markdown",
      "source": [
        "\n",
        " **Question 6**\n",
        "Given an integer array nums sorted in **non-decreasing** order, return *an array of **the squares of each number** sorted in non-decreasing order*.\n",
        "\n",
        "**Example 1:**\n",
        "\n",
        "Input: nums = [-4,-1,0,3,10]\n",
        "\n",
        "Output: [0,1,9,16,100]\n",
        "\n",
        "**Explanation:** After squaring, the array becomes [16,1,0,9,100].\n",
        "After sorting, it becomes [0,1,9,16,100]\n"
      ],
      "metadata": {
        "id": "r0wtm_7uMUEv"
      }
    },
    {
      "cell_type": "code",
      "source": [
        "def nums_squares(nums):\n",
        "    n = len(nums)\n",
        "    result = [0] * n\n",
        "    left = 0\n",
        "    right = n - 1\n",
        "    index = n - 1\n",
        "\n",
        "    while left <= right:\n",
        "        if abs(nums[left]) > abs(nums[right]):\n",
        "            result[index] = nums[left] ** 2\n",
        "            left += 1\n",
        "        else:\n",
        "            result[index] = nums[right] ** 2\n",
        "            right -= 1\n",
        "        index -= 1\n",
        "\n",
        "    return result\n",
        "\n",
        "#  example input\n",
        "nums = [-4, -1, 0, 3, 10]\n",
        "squared_nums = nums_squares(nums)\n",
        "print(\"Sorted squared numbers are:\", squared_nums)\n"
      ],
      "metadata": {
        "colab": {
          "base_uri": "https://localhost:8080/"
        },
        "id": "i7U7meGHMeQk",
        "outputId": "e2945e84-4ff5-459c-b381-7f84596f412d"
      },
      "execution_count": 13,
      "outputs": [
        {
          "output_type": "stream",
          "name": "stdout",
          "text": [
            "Sorted squared numbers are: [0, 1, 9, 16, 100]\n"
          ]
        }
      ]
    },
    {
      "cell_type": "markdown",
      "source": [
        "\n",
        " **Question 7**\n",
        "You are given an m x n matrix M initialized with all 0's and an array of operations ops, where ops[i] = [ai, bi] means M[x][y] should be incremented by one for all 0 <= x < ai and 0 <= y < bi.\n",
        "\n",
        "Count and return *the number of maximum integers in the matrix after performing all the operations*\n",
        "\n",
        "**Example 1:**\n",
        "\n",
        "![q4.jpg](https://s3-us-west-2.amazonaws.com/secure.notion-static.com/4d0890d0-7bc7-4f59-be8e-352d9f3c1c52/q4.jpg)\n",
        "\n",
        "**Input:** m = 3, n = 3, ops = [[2,2],[3,3]]\n",
        "\n",
        "**Output:** 4\n",
        "\n",
        "**Explanation:** The maximum integer in M is 2, and there are four of it in M. So return 4.\n",
        "\n"
      ],
      "metadata": {
        "id": "Q6q2qbTpNmqN"
      }
    },
    {
      "cell_type": "code",
      "source": [
        "\n",
        "def maxCount(self, m: int, n: int, ops: List[List[int]]) -> int:\n",
        "    if not ops:\n",
        "        return m * n\n",
        "\n",
        "    min_row = min(op[0] for op in ops)\n",
        "    min_col = min(op[1] for op in ops)\n",
        "    return min_row * min_col\n",
        "\n",
        "# example input\n",
        "m = 3\n",
        "n = 3\n",
        "ops = [[2, 2], [3, 3]]\n",
        "max_integers = maxCount(m, n, ops)\n",
        "print(\"Number of maximum integers:\", max_integers)\n"
      ],
      "metadata": {
        "colab": {
          "base_uri": "https://localhost:8080/",
          "height": 235
        },
        "id": "9YVhdKbkNqps",
        "outputId": "be9684f1-46f4-472b-96c0-b5dd83e96d4b"
      },
      "execution_count": 21,
      "outputs": [
        {
          "output_type": "error",
          "ename": "TypeError",
          "evalue": "ignored",
          "traceback": [
            "\u001b[0;31m---------------------------------------------------------------------------\u001b[0m",
            "\u001b[0;31mTypeError\u001b[0m                                 Traceback (most recent call last)",
            "\u001b[0;32m<ipython-input-21-bfc24f85af5e>\u001b[0m in \u001b[0;36m<cell line: 2>\u001b[0;34m()\u001b[0m\n\u001b[1;32m      1\u001b[0m \u001b[0mList\u001b[0m\u001b[0;34m=\u001b[0m\u001b[0;34m[\u001b[0m\u001b[0;34m]\u001b[0m\u001b[0;34m\u001b[0m\u001b[0;34m\u001b[0m\u001b[0m\n\u001b[0;32m----> 2\u001b[0;31m \u001b[0;32mdef\u001b[0m \u001b[0mmaxCount\u001b[0m\u001b[0;34m(\u001b[0m\u001b[0mself\u001b[0m\u001b[0;34m,\u001b[0m \u001b[0mm\u001b[0m\u001b[0;34m:\u001b[0m \u001b[0mint\u001b[0m\u001b[0;34m,\u001b[0m \u001b[0mn\u001b[0m\u001b[0;34m:\u001b[0m \u001b[0mint\u001b[0m\u001b[0;34m,\u001b[0m \u001b[0mops\u001b[0m\u001b[0;34m:\u001b[0m \u001b[0mList\u001b[0m\u001b[0;34m[\u001b[0m\u001b[0mList\u001b[0m\u001b[0;34m[\u001b[0m\u001b[0mint\u001b[0m\u001b[0;34m]\u001b[0m\u001b[0;34m]\u001b[0m\u001b[0;34m)\u001b[0m \u001b[0;34m->\u001b[0m \u001b[0mint\u001b[0m\u001b[0;34m:\u001b[0m\u001b[0;34m\u001b[0m\u001b[0;34m\u001b[0m\u001b[0m\n\u001b[0m\u001b[1;32m      3\u001b[0m     \u001b[0;32mif\u001b[0m \u001b[0;32mnot\u001b[0m \u001b[0mops\u001b[0m\u001b[0;34m:\u001b[0m\u001b[0;34m\u001b[0m\u001b[0;34m\u001b[0m\u001b[0m\n\u001b[1;32m      4\u001b[0m         \u001b[0;32mreturn\u001b[0m \u001b[0mm\u001b[0m \u001b[0;34m*\u001b[0m \u001b[0mn\u001b[0m\u001b[0;34m\u001b[0m\u001b[0;34m\u001b[0m\u001b[0m\n\u001b[1;32m      5\u001b[0m \u001b[0;34m\u001b[0m\u001b[0m\n",
            "\u001b[0;31mTypeError\u001b[0m: list indices must be integers or slices, not type"
          ]
        }
      ]
    },
    {
      "cell_type": "markdown",
      "source": [
        " **Question 8**\n",
        "\n",
        "Given the array nums consisting of 2n elements in the form [x1,x2,...,xn,y1,y2,...,yn].\n",
        "\n",
        "*Return the array in the form* [x1,y1,x2,y2,...,xn,yn].\n",
        "\n",
        "**Example 1:**\n",
        "\n",
        "**Input:** nums = [2,5,1,3,4,7], n = 3\n",
        "\n",
        "**Output:** [2,3,5,4,1,7]\n",
        "\n",
        "**Explanation:** Since x1=2, x2=5, x3=1, y1=3, y2=4, y3=7 then the answer is [2,3,5,4,1,7].\n",
        "\n"
      ],
      "metadata": {
        "id": "PZgXYDcBTTlz"
      }
    },
    {
      "cell_type": "code",
      "source": [
        "def arrangearray(nums, n):\n",
        "    result = []\n",
        "    for i in range(n):\n",
        "        result.append(nums[i])\n",
        "        result.append(nums[i + n])\n",
        "    return result\n",
        "\n",
        "# Test the function with example input\n",
        "nums = [2, 5, 1, 3, 4, 7]\n",
        "n = 3\n",
        "arranged_nums = arrangearray(nums, n)\n",
        "print(\"Shuffled array:\", arranged_nums)\n"
      ],
      "metadata": {
        "colab": {
          "base_uri": "https://localhost:8080/"
        },
        "id": "iTo3cLUoTZPq",
        "outputId": "986b5b97-682d-4989-866c-73c4ad5417b6"
      },
      "execution_count": 20,
      "outputs": [
        {
          "output_type": "stream",
          "name": "stdout",
          "text": [
            "Shuffled array: [2, 3, 5, 4, 1, 7]\n"
          ]
        }
      ]
    },
    {
      "cell_type": "code",
      "source": [],
      "metadata": {
        "id": "7_BbChW-S6sL"
      },
      "execution_count": null,
      "outputs": []
    }
  ]
}