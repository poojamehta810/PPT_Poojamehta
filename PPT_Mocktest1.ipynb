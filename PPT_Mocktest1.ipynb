{
  "nbformat": 4,
  "nbformat_minor": 0,
  "metadata": {
    "colab": {
      "provenance": []
    },
    "kernelspec": {
      "name": "python3",
      "display_name": "Python 3"
    },
    "language_info": {
      "name": "python"
    }
  },
  "cells": [
    {
      "cell_type": "markdown",
      "source": [
        "17. Write a function that takes a list of numbers as input and returns a new list containing only the even numbers from the input list. Use list comprehension to solve this problem."
      ],
      "metadata": {
        "id": "Y_4v7JosTCZK"
      }
    },
    {
      "cell_type": "code",
      "execution_count": null,
      "metadata": {
        "colab": {
          "base_uri": "https://localhost:8080/"
        },
        "id": "eZto5VzLSse_",
        "outputId": "35abeb1e-c324-4655-bc88-277ecc37af25"
      },
      "outputs": [
        {
          "output_type": "stream",
          "name": "stdout",
          "text": [
            "[2, 4, 6, 8, 10]\n"
          ]
        }
      ],
      "source": [
        "\n",
        "# Declaration of list\n",
        "lis1 = [1, 2, 3, 4, 5, 6, 7, 8, 9, 10]\n",
        "\n",
        "# Output list\n",
        "out = []\n",
        "\n",
        "for num in lis1:\n",
        "\n",
        "\t# checking condition\n",
        "\tif num % 2 == 0:\n",
        "\t\tout.append(num)\n",
        "\n",
        "\n",
        "# printing output\n",
        "print(out)\n"
      ]
    },
    {
      "cell_type": "markdown",
      "source": [
        " 18. Implement a decorator function called ‘timer’ that measures the execution time of a function. The ‘timer’ decorator should print the time taken by the decorated function to execute. Use the ‘time’ module in Python to calculate the execution time."
      ],
      "metadata": {
        "id": "lUMCA4NPTIav"
      }
    },
    {
      "cell_type": "code",
      "source": [
        "from time import time\n",
        "\n",
        "\n",
        "def timer_func(func):\n",
        "\t# This function shows the execution time of\n",
        "\t# the function object passed\n",
        "\tdef wrap_func(*args, **kwargs):\n",
        "\t\tt1 = time()\n",
        "\t\tresult = func(*args, **kwargs)\n",
        "\t\tt2 = time()\n",
        "\t\tprint(f'Function {func.__name__!r} executed in {(t2-t1):.4f}s')\n",
        "\t\treturn result\n",
        "\treturn wrap_func\n",
        "\n",
        "\n",
        "@timer_func\n",
        "def long_time(n):\n",
        "\tfor i in range(n):\n",
        "\t\tfor j in range(100000):\n",
        "\t\t\ti*j\n",
        "\n",
        "\n",
        "long_time(5)\n"
      ],
      "metadata": {
        "colab": {
          "base_uri": "https://localhost:8080/"
        },
        "id": "mlbCQUx9Tg58",
        "outputId": "e8879a88-c5eb-4f37-976f-0a06941eabab"
      },
      "execution_count": null,
      "outputs": [
        {
          "output_type": "stream",
          "name": "stdout",
          "text": [
            "Function 'long_time' executed in 0.0326s\n"
          ]
        }
      ]
    },
    {
      "cell_type": "markdown",
      "source": [
        "19. Write a function called ‘calculate_mean’ that takes a list of numbers as input and returns the mean (average) of the numbers. The function should calculate the mean using the sum of the numbers divided by the total count.\n",
        "\n",
        "Example:\n",
        "\n",
        "def calculate_mean(numbers):\n",
        "    total = sum(numbers)\n",
        "    count = len(numbers)\n",
        "    mean = total / count\n",
        "    return mean\n",
        "\n",
        "data = [10, 15, 20, 25, 30]\n",
        "mean_value = calculate_mean(data)\n",
        "print(\"Mean:\", mean_value)\n",
        "\n",
        "Output:\n",
        "Mean: 20.0"
      ],
      "metadata": {
        "id": "s_HaYul0TtJ_"
      }
    },
    {
      "cell_type": "code",
      "source": [
        "def calculate_mean(numbers):\n",
        "    total = sum(numbers)\n",
        "    count = len(numbers)\n",
        "    mean = total / count\n",
        "    return mean\n",
        "data = [10, 15, 20, 25, 30]\n",
        "mean_value = calculate_mean(data)\n",
        "print(\"Mean value:\", mean_value)"
      ],
      "metadata": {
        "id": "oF0KhkK0T23f",
        "colab": {
          "base_uri": "https://localhost:8080/"
        },
        "outputId": "1e615a96-1a0b-4f0e-c1b8-f9a1b4a8a423"
      },
      "execution_count": 3,
      "outputs": [
        {
          "output_type": "stream",
          "name": "stdout",
          "text": [
            "Mean: 20.0\n"
          ]
        }
      ]
    },
    {
      "cell_type": "markdown",
      "source": [
        "20. Write a function called ‘perform_hypothesis_test’ that takes two lists of numbers as input, representing two samples. The function should perform a two-sample t-test and return the p-value. Use the ‘scipy.stats’ module in Python to calculate the t-test and p-value.\n"
      ],
      "metadata": {
        "id": "JijPOL35VPcn"
      }
    },
    {
      "cell_type": "code",
      "source": [
        "from scipy import stats\n",
        "\n",
        "def perform_hypothesis_test(sample1, sample2):\n",
        "    t_statistic, p_value = stats.ttest_ind(sample1, sample2)\n",
        "    return p_value\n",
        "\n",
        "sample1 = [5, 10, 15, 20, 25]\n",
        "sample2 = [10, 20, 30, 40, 50]\n",
        "p_value = perform_hypothesis_test(sample1, sample2)\n",
        "print(\"P-value:\", p_value)"
      ],
      "metadata": {
        "colab": {
          "base_uri": "https://localhost:8080/"
        },
        "id": "8a8YSS35nV82",
        "outputId": "960787d0-77cc-40be-98da-b80f68e60f3d"
      },
      "execution_count": 4,
      "outputs": [
        {
          "output_type": "stream",
          "name": "stdout",
          "text": [
            "P-value: 0.09434977284243756\n"
          ]
        }
      ]
    }
  ]
}