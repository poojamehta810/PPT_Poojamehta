{
  "nbformat": 4,
  "nbformat_minor": 0,
  "metadata": {
    "colab": {
      "provenance": []
    },
    "kernelspec": {
      "name": "python3",
      "display_name": "Python 3"
    },
    "language_info": {
      "name": "python"
    }
  },
  "cells": [
    {
      "cell_type": "markdown",
      "source": [
        "\n",
        "**Q1.**  Given an array of integers nums and an integer target, return indices of the two numbers such that they add up to target.\n",
        "\n",
        "You may assume that each input would have exactly one solution, and you may not use the same element twice.\n",
        "\n",
        "You can return the answer in any order.\n",
        "\n",
        "**Example:**\n",
        "Input: nums = [2,7,11,15], target = 9\n",
        "Output0 [0,1]\n",
        "\n",
        "**Explanation:** Because nums[0] + nums[1] == 9, we return [0, 1][\n"
      ],
      "metadata": {
        "id": "cgezUVgIjVYr"
      }
    },
    {
      "cell_type": "code",
      "execution_count": 1,
      "metadata": {
        "id": "y8Vr3VV9jPH1",
        "colab": {
          "base_uri": "https://localhost:8080/"
        },
        "outputId": "220c0994-99fc-435a-e853-e2b07e5ad37b"
      },
      "outputs": [
        {
          "output_type": "stream",
          "name": "stdout",
          "text": [
            "[0, 1]\n"
          ]
        }
      ],
      "source": [
        "def twoSum(nums, target):\n",
        "    num_indices = {}\n",
        "\n",
        "    # Iterate through the array\n",
        "    for i, num in enumerate(nums):\n",
        "        complement = target - num\n",
        "        if complement in num_indices:\n",
        "            # Found the two numbers that add up to the target\n",
        "            return [num_indices[complement], i]\n",
        "        else:\n",
        "            # Store the current number's index\n",
        "            num_indices[num] = i\n",
        "\n",
        "    # If no solution is found, return an empty list\n",
        "    return []\n",
        "\n",
        "# Example usage\n",
        "nums = [2, 7, 11, 15]\n",
        "target = 9\n",
        "result = twoSum(nums, target)\n",
        "print(result)  # Output: [0, 1]\n",
        "\n",
        "\n"
      ]
    },
    {
      "cell_type": "markdown",
      "source": [
        "\n",
        "💡 **Q2.** Given an integer array nums and an integer val, remove all occurrences of val in nums in-place. The order of the elements may be changed. Then return the number of elements in nums which are not equal to val.\n",
        "\n",
        "Consider the number of elements in nums which are not equal to val be k, to get accepted, you need to do the following things:\n",
        "\n",
        "- Change the array nums such that the first k elements of nums contain the elements which are not equal to val. The remaining elements of nums are not important as well as the size of nums.\n",
        "- Return k.\n",
        "\n",
        "**Example :**\n",
        "Input: nums = [3,2,2,3], val = 3\n",
        "Output: 2, nums = [2,2,_*,_*]\n",
        "\n",
        "**Explanation:** Your function should return k = 2, with the first two elements of nums being 2. It does not matter what you leave beyond the returned k (hence they are underscores)[\n",
        "\n"
      ],
      "metadata": {
        "id": "xrNPChGjrRL7"
      }
    },
    {
      "cell_type": "code",
      "source": [
        "def removeElement(nums, val):\n",
        "    k = 0  # initialize k\n",
        "\n",
        "    for i in range(len(nums)):\n",
        "        if nums[i] != val:\n",
        "            nums[k] = nums[i]\n",
        "            k += 1\n",
        "\n",
        "    return k\n",
        "   "
      ],
      "metadata": {
        "id": "Qq_1mKw5rTu8"
      },
      "execution_count": 9,
      "outputs": []
    },
    {
      "cell_type": "code",
      "source": [
        "nums = [3,2,2,3]\n",
        "val = 3\n",
        "result = removeElement(nums, val)\n",
        "print(result)  # Output: 2\n",
        "print(nums) "
      ],
      "metadata": {
        "colab": {
          "base_uri": "https://localhost:8080/"
        },
        "id": "4KOsu4ehwlu0",
        "outputId": "77e38cb7-abe0-44b8-f71d-643b4d07dc88"
      },
      "execution_count": 10,
      "outputs": [
        {
          "output_type": "stream",
          "name": "stdout",
          "text": [
            "2\n",
            "[2, 2, 2, 3]\n"
          ]
        }
      ]
    },
    {
      "cell_type": "markdown",
      "source": [
        "\n",
        " **Q3.** Given a sorted array of distinct integers and a target value, return the index if the target is found. If not, return the index where it would be if it were inserted in order.\n",
        "\n",
        "You must write an algorithm with O(log n) runtime complexity.\n",
        "\n",
        "**Example 1:**\n",
        "Input: nums = [1,3,5,6], target = 5\n",
        "\n",
        "Output: 2\n",
        "\n"
      ],
      "metadata": {
        "id": "le0lisq_wyra"
      }
    },
    {
      "cell_type": "code",
      "source": [
        "def searchInsert(nums, target):\n",
        "    left = 0\n",
        "    right = len(nums) - 1\n",
        "\n",
        "    while left <= right:\n",
        "        mid = (left + right) // 2\n",
        "\n",
        "        if nums[mid] == target:\n",
        "            return mid\n",
        "        elif nums[mid] < target:\n",
        "            left = mid + 1\n",
        "        else:\n",
        "            right = mid - 1\n",
        "\n",
        "    return left\n"
      ],
      "metadata": {
        "id": "mcXhzbjowyUZ"
      },
      "execution_count": 11,
      "outputs": []
    },
    {
      "cell_type": "code",
      "source": [
        "nums = [1, 3, 5, 6]\n",
        "target = 5\n",
        "result = searchInsert(nums, target)\n",
        "print(nums,target, result)  \n",
        "\n",
        "\n"
      ],
      "metadata": {
        "colab": {
          "base_uri": "https://localhost:8080/"
        },
        "id": "pulruFeLzELq",
        "outputId": "0fb2baf1-9054-4939-ce0c-bcb6a7e859ac"
      },
      "execution_count": 19,
      "outputs": [
        {
          "output_type": "stream",
          "name": "stdout",
          "text": [
            "[1, 3, 5, 6] 5 2\n"
          ]
        }
      ]
    },
    {
      "cell_type": "markdown",
      "source": [
        "\n",
        " **Q4.** You are given a large integer represented as an integer array digits, where each digits[i] is the ith digit of the integer. The digits are ordered from most significant to least significant in left-to-right order. The large integer does not contain any leading 0's.\n",
        "\n",
        "Increment the large integer by one and return the resulting array of digits.\n",
        "\n",
        "**Example 1:**\n",
        "Input: digits = [1,2,3]\n",
        "Output: [1,2,4]\n",
        "\n",
        "**Explanation:** The array represents the integer 123.\n",
        "\n",
        "Incrementing by one gives 123 + 1 = 124.\n",
        "Thus, the result should be [1,2,4].\n",
        "\n"
      ],
      "metadata": {
        "id": "O3o9tRQS0j9g"
      }
    },
    {
      "cell_type": "code",
      "source": [
        "def plusOne(digits):\n",
        "    carry = 1\n",
        "    n = len(digits)\n",
        "\n",
        "    for i in range(n - 1, -1, -1):\n",
        "        sum = digits[i] + carry\n",
        "        digits[i] = sum % 10\n",
        "        carry = sum // 10\n",
        "\n",
        "        if carry == 0:\n",
        "            break\n",
        "\n",
        "    if carry != 0:\n",
        "        digits.insert(0, carry)\n",
        "\n",
        "    return digits\n"
      ],
      "metadata": {
        "id": "Mc33u-St1QSF"
      },
      "execution_count": 22,
      "outputs": []
    },
    {
      "cell_type": "code",
      "source": [
        "digits = [1, 2, 3]\n",
        "result = plusOne(digits)\n",
        "print(result)  \n",
        "\n",
        "\n"
      ],
      "metadata": {
        "colab": {
          "base_uri": "https://localhost:8080/"
        },
        "id": "0K6WLXPU2H3W",
        "outputId": "b22c8229-8913-4800-e331-39c981910693"
      },
      "execution_count": 23,
      "outputs": [
        {
          "output_type": "stream",
          "name": "stdout",
          "text": [
            "[1, 2, 4]\n"
          ]
        }
      ]
    },
    {
      "cell_type": "markdown",
      "source": [
        "\n",
        " **Q5.** You are given two integer arrays nums1 and nums2, sorted in non-decreasing order, and two integers m and n, representing the number of elements in nums1 and nums2 respectively.\n",
        "\n",
        "Merge nums1 and nums2 into a single array sorted in non-decreasing order.\n",
        "\n",
        "The final sorted array should not be returned by the function, but instead be stored inside the array nums1. To accommodate this, nums1 has a length of m + n, where the first m elements denote the elements that should be merged, and the last n elements are set to 0 and should be ignored. nums2 has a length of n.\n",
        "\n",
        "**Example 1:**\n",
        "Input: nums1 = [1,2,3,0,0,0], m = 3, nums2 = [2,5,6], n = 3\n",
        "Output: [1,2,2,3,5,6]\n",
        "\n",
        "**Explanation:** The arrays we are merging are [1,2,3] and [2,5,6].\n",
        "The result of the merge is [1,2,2,3,5,6] with the underlined elements coming from nums1.\n",
        "\n"
      ],
      "metadata": {
        "id": "hzrCBCnQ2VB2"
      }
    },
    {
      "cell_type": "code",
      "source": [
        "def merge(nums1, m, nums2, n):\n",
        "    p1 = m - 1\n",
        "    p2 = n - 1\n",
        "    p = m + n - 1\n",
        "\n",
        "    while p1 >= 0 and p2 >= 0:\n",
        "        if nums1[p1] >= nums2[p2]:\n",
        "            nums1[p] = nums1[p1]\n",
        "            p1 -= 1\n",
        "        else:\n",
        "            nums1[p] = nums2[p2]\n",
        "            p2 -= 1\n",
        "        p -= 1\n",
        "\n",
        "    # Copy remaining elements from nums2 to nums1\n",
        "    nums1[:p2 + 1] = nums2[:p2 + 1]\n",
        "\n",
        "# Example usage:\n",
        "nums1 = [1, 2, 3, 0, 0, 0]\n",
        "m = 3\n",
        "nums2 = [2, 5, 6]\n",
        "n = 3\n",
        "\n",
        "merge(nums1, m, nums2, n)\n",
        "print(nums1)  \n"
      ],
      "metadata": {
        "colab": {
          "base_uri": "https://localhost:8080/"
        },
        "id": "qXOBgS1O84tg",
        "outputId": "17622425-1d5d-4464-84e0-8009e2d3d404"
      },
      "execution_count": 25,
      "outputs": [
        {
          "output_type": "stream",
          "name": "stdout",
          "text": [
            "[1, 2, 2, 3, 5, 6]\n"
          ]
        }
      ]
    },
    {
      "cell_type": "markdown",
      "source": [
        "\n",
        "💡 **Q6.** Given an integer array nums, return true if any value appears at least twice in the array, and return false if every element is distinct.\n",
        "\n",
        "**Example 1:**\n",
        "Input: nums = [1,2,3,1]\n",
        "\n",
        "Output: true\n",
        "\n"
      ],
      "metadata": {
        "id": "61liLEuS9Itu"
      }
    },
    {
      "cell_type": "code",
      "source": [
        "def containsDuplicate(nums):\n",
        "    num_set = set()\n",
        "\n",
        "    for num in nums:\n",
        "        if num in num_set:\n",
        "            return True\n",
        "        num_set.add(num)\n",
        "\n",
        "    return False\n"
      ],
      "metadata": {
        "id": "UjodZjmx9Qsu"
      },
      "execution_count": 26,
      "outputs": []
    },
    {
      "cell_type": "code",
      "source": [
        "nums = [1, 2, 3, 1]\n",
        "result = containsDuplicate(nums)\n",
        "print(result)  \n",
        "\n",
        "nums = [1, 2, 3, 4]\n",
        "result = containsDuplicate(nums)\n",
        "print(result) \n"
      ],
      "metadata": {
        "colab": {
          "base_uri": "https://localhost:8080/"
        },
        "id": "ayKxSSBx93jo",
        "outputId": "2f4939ff-cb3e-48a0-bce4-f9ead7c04f71"
      },
      "execution_count": 27,
      "outputs": [
        {
          "output_type": "stream",
          "name": "stdout",
          "text": [
            "True\n",
            "False\n"
          ]
        }
      ]
    },
    {
      "cell_type": "markdown",
      "source": [
        "\n",
        "💡 **Q7.** Given an integer array nums, move all 0's to the end of it while maintaining the relative order of the nonzero elements.\n",
        "\n",
        "Note that you must do this in-place without making a copy of the array.\n",
        "\n",
        "**Example 1:**\n",
        "Input: nums = [0,1,0,3,12]\n",
        "Output: [1,3,12,0,0]\n"
      ],
      "metadata": {
        "id": "LmUXd12T-dce"
      }
    },
    {
      "cell_type": "code",
      "source": [
        "def moveZeroes(nums):\n",
        "    non_zero_index = 0\n",
        "\n",
        "    for i in range(len(nums)):\n",
        "        if nums[i] != 0:\n",
        "            nums[i], nums[non_zero_index] = nums[non_zero_index], nums[i]\n",
        "            non_zero_index += 1\n",
        "\n",
        "    for i in range(non_zero_index, len(nums)):\n",
        "        nums[i] = 0\n",
        "nums = [0, 1, 0, 3, 12]\n",
        "moveZeroes(nums)\n",
        "print(nums)  \n"
      ],
      "metadata": {
        "colab": {
          "base_uri": "https://localhost:8080/"
        },
        "id": "jvE57qqR-koo",
        "outputId": "05f7b170-b49f-4366-e2ff-45dbb7b1e8c8"
      },
      "execution_count": 28,
      "outputs": [
        {
          "output_type": "stream",
          "name": "stdout",
          "text": [
            "[1, 3, 12, 0, 0]\n"
          ]
        }
      ]
    },
    {
      "cell_type": "markdown",
      "source": [
        "<aside>\n",
        "💡 **Q8.** You have a set of integers s, which originally contains all the numbers from 1 to n. Unfortunately, due to some error, one of the numbers in s got duplicated to another number in the set, which results in repetition of one number and loss of another number.\n",
        "\n",
        "You are given an integer array nums representing the data status of this set after the error.\n",
        "\n",
        "Find the number that occurs twice and the number that is missing and return them in the form of an array.\n",
        "\n",
        "**Example 1:**\n",
        "Input: nums = [1,2,2,4]\n",
        "Output: [2,3]\n",
        "\n",
        "</aside>"
      ],
      "metadata": {
        "id": "noZSrpLP-3Ts"
      }
    },
    {
      "cell_type": "markdown",
      "source": [],
      "metadata": {
        "id": "rbqr8ZPd-3Yn"
      }
    }
  ]
}