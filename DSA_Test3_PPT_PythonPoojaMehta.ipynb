{
  "nbformat": 4,
  "nbformat_minor": 0,
  "metadata": {
    "colab": {
      "provenance": []
    },
    "kernelspec": {
      "name": "python3",
      "display_name": "Python 3"
    },
    "language_info": {
      "name": "python"
    }
  },
  "cells": [
    {
      "cell_type": "markdown",
      "source": [
        "Implement a stack using a list in Python. Include the necessary methods such as push, pop, and isEmpty."
      ],
      "metadata": {
        "id": "xPp1X12TvmW8"
      }
    },
    {
      "cell_type": "code",
      "execution_count": 5,
      "metadata": {
        "colab": {
          "base_uri": "https://localhost:8080/"
        },
        "id": "88JIsas8vdGq",
        "outputId": "19b81b96-edcb-43c8-92e0-34e911a9243d"
      },
      "outputs": [
        {
          "output_type": "stream",
          "name": "stdout",
          "text": [
            "Initial stack\n",
            "['10', '20', '30', '40']\n",
            "\n",
            "Elements popped from stack:\n",
            "40\n",
            "30\n",
            "20\n",
            "10\n",
            "\n",
            "Stack after elements are popped:\n",
            "[]\n"
          ]
        }
      ],
      "source": [
        "# Python program to stack implementation using list\n",
        "\n",
        "stack = []\n",
        "\n",
        "# append() function to push\n",
        "\n",
        "stack.append('10')\n",
        "stack.append('20')\n",
        "stack.append('30')\n",
        "stack.append('40')\n",
        "\n",
        "print('Initial stack')\n",
        "print(stack)\n",
        "\n",
        "# pop() function to pop\n",
        "\n",
        "# LIFO order\n",
        "print('\\nElements popped from stack:')\n",
        "print(stack.pop())\n",
        "print(stack.pop())\n",
        "print(stack.pop())\n",
        "print(stack.pop())\n",
        "print('\\nStack after elements are popped:')\n",
        "print(stack)\n",
        "\n"
      ]
    },
    {
      "cell_type": "markdown",
      "source": [
        "Implement a queue using a list in Python. Include the necessary methods such as enqueue, dequeue, and isEmpty."
      ],
      "metadata": {
        "id": "JlZN97spwa2l"
      }
    },
    {
      "cell_type": "code",
      "source": [
        "# Python program to queue implementation using list\n",
        "\n",
        "\n",
        "queue = []\n",
        "\n",
        "# Adding elements to the queue\n",
        "queue.append('10')\n",
        "queue.append('20')\n",
        "queue.append('30')\n",
        "queue.append('40')\n",
        "\n",
        "print(\"Initial queue\")\n",
        "print(queue)\n",
        "\n",
        "# Removing elements from the queue\n",
        "print(\"\\nElements dequeued from queue\")\n",
        "print(queue.pop(0))\n",
        "print(queue.pop(0))\n",
        "print(queue.pop(0))\n",
        "print(queue.pop(0))\n",
        "print(\"\\nQueue after removing elements\")\n",
        "print(queue)\n"
      ],
      "metadata": {
        "colab": {
          "base_uri": "https://localhost:8080/"
        },
        "id": "ltgKceB9wb9s",
        "outputId": "2de32f77-337f-45b8-c0a4-1584c081fe8d"
      },
      "execution_count": 6,
      "outputs": [
        {
          "output_type": "stream",
          "name": "stdout",
          "text": [
            "Initial queue\n",
            "['10', '20', '30', '40']\n",
            "\n",
            "Elements dequeued from queue\n",
            "10\n",
            "20\n",
            "30\n",
            "40\n",
            "\n",
            "Queue after removing elements\n",
            "[]\n"
          ]
        }
      ]
    }
  ]
}