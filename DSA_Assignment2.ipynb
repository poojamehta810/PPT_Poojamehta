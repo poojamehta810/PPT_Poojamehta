{
  "nbformat": 4,
  "nbformat_minor": 0,
  "metadata": {
    "colab": {
      "provenance": []
    },
    "kernelspec": {
      "name": "python3",
      "display_name": "Python 3"
    },
    "language_info": {
      "name": "python"
    }
  },
  "cells": [
    {
      "cell_type": "markdown",
      "source": [
        "\n",
        "**Question 1**\n",
        "Given an integer array nums of 2n integers, group these integers into n pairs (a1, b1), (a2, b2),..., (an, bn) such that the sum of min(ai, bi) for all i is maximized. Return the maximized sum.\n",
        "\n",
        "**Example 1:**\n",
        "Input: nums = [1,4,3,2]\n",
        "Output: 4\n",
        "\n",
        "**Explanation:** All possible pairings (ignoring the ordering of elements) are:\n",
        "\n",
        "1. (1, 4), (2, 3) -> min(1, 4) + min(2, 3) = 1 + 2 = 3\n",
        "2. (1, 3), (2, 4) -> min(1, 3) + min(2, 4) = 1 + 2 = 3\n",
        "3. (1, 2), (3, 4) -> min(1, 2) + min(3, 4) = 1 + 3 = 4\n",
        "So the maximum possible sum is 4\n"
      ],
      "metadata": {
        "id": "F45cPKm2YN7U"
      }
    },
    {
      "cell_type": "markdown",
      "source": [],
      "metadata": {
        "id": "l07udHGkgR7c"
      }
    },
    {
      "cell_type": "code",
      "source": [
        "def Pairarray_Sum(nums):\n",
        "    nums.sort()  # Sort the array in ascending order\n",
        "    max_sum = 0\n",
        "    for i in range(0, len(nums), 2):\n",
        "        max_sum += nums[i]\n",
        "    return max_sum\n",
        "\n",
        "# Test the function\n",
        "nums = [1, 4, 3, 2]\n",
        "maximum_sum = Pairarray_Sum(nums)\n",
        "print(\"Maximized sum:\", maximum_sum)\n"
      ],
      "metadata": {
        "colab": {
          "base_uri": "https://localhost:8080/"
        },
        "id": "tWJxl6PyYYMu",
        "outputId": "992a0c67-615c-4ef2-d9cb-520a88277c77"
      },
      "execution_count": null,
      "outputs": [
        {
          "output_type": "stream",
          "name": "stdout",
          "text": [
            "Maximized sum: 4\n"
          ]
        }
      ]
    },
    {
      "cell_type": "markdown",
      "source": [
        "**Question 2**\n",
        "Alice has n candies, where the ith candy is of type candyType[i]. Alice noticed that she started to gain weight, so she visited a doctor. \n",
        "\n",
        "The doctor advised Alice to only eat n / 2 of the candies she has (n is always even). Alice likes her candies very much, and she wants to eat the maximum number of different types of candies while still following the doctor's advice. \n",
        "\n",
        "Given the integer array candyType of length n, return the maximum number of different types of candies she can eat if she only eats n / 2 of them.\n",
        "\n",
        "Example 1:\n",
        "Input: candyType = [1,1,2,2,3,3]\n",
        "Output: 3\n",
        "\n",
        "Explanation: Alice can only eat 6 / 2 = 3 candies. Since there are only 3 types, she can eat one of each type."
      ],
      "metadata": {
        "id": "NDo2Spb7YqeL"
      }
    },
    {
      "cell_type": "code",
      "source": [
        "def maxCandies(candyType):\n",
        "    max_types = len(set(candySet))  # Count the number of unique candy types\n",
        "    max_allowed = len(candySet) // 2  # Calculate the maximum number of candies allowed\n",
        "\n",
        "    # Return the minimum value between max_types and max_allowed\n",
        "    return min(max_types, max_allowed)\n",
        "\n",
        "# Test the function\n",
        "candySet = [1, 1, 2, 2, 3, 3]\n",
        "different_types = maxCandies(candySet)\n",
        "print(\"Maximum candies Alice can eat:\", different_types)\n"
      ],
      "metadata": {
        "colab": {
          "base_uri": "https://localhost:8080/"
        },
        "id": "xJz_mJsja-Lk",
        "outputId": "ed4f5da9-39b8-456c-9c4b-409b2a5d7b63"
      },
      "execution_count": null,
      "outputs": [
        {
          "output_type": "stream",
          "name": "stdout",
          "text": [
            "Maximum candies Alice can eat: 3\n"
          ]
        }
      ]
    },
    {
      "cell_type": "markdown",
      "source": [
        "**Question 3**\n",
        "We define a harmonious array as an array where the difference between its maximum value\n",
        "and its minimum value is exactly 1.\n",
        "\n",
        "Given an integer array nums, return the length of its longest harmonious subsequence\n",
        "among all its possible subsequences.\n",
        "\n",
        "A subsequence of an array is a sequence that can be derived from the array by deleting some or no elements without changing the order of the remaining elements.\n",
        "\n",
        "Example 1:\n",
        "Input: nums = [1,3,2,2,5,2,3,7]\n",
        "Output: 5"
      ],
      "metadata": {
        "id": "pAwQHB7vco3c"
      }
    },
    {
      "cell_type": "code",
      "source": [
        "def findLHS(nums):\n",
        "    num_count = {}\n",
        "    longest_subsequence_length = 0\n",
        "\n",
        "    # Count the frequency of each number\n",
        "    for num in nums:\n",
        "        num_count[num] = num_count.get(num, 0) + 1\n",
        "\n",
        "    # Iterate through the numbers and check for harmonious subsequences\n",
        "    for num in nums:\n",
        "        if num + 1 in num_count:\n",
        "            current_length = num_count[num] + num_count[num + 1]\n",
        "            longest_subsequence_length = max(longest_subsequence_length, current_length)\n",
        "\n",
        "    return longest_subsequence_length\n",
        "\n",
        "# Test the function\n",
        "nums = [1, 3, 2, 2, 5, 2, 3, 7]\n",
        "longest_subsequence = findLHS(nums)\n",
        "print(\"Length of the longest harmonious subsequence:\", longest_subsequence)\n"
      ],
      "metadata": {
        "colab": {
          "base_uri": "https://localhost:8080/"
        },
        "id": "6rscnePXcxGj",
        "outputId": "3eb7049f-2871-4118-ed75-7fd81bd54df6"
      },
      "execution_count": null,
      "outputs": [
        {
          "output_type": "stream",
          "name": "stdout",
          "text": [
            "Length of the longest harmonious subsequence: 5\n"
          ]
        }
      ]
    },
    {
      "cell_type": "markdown",
      "source": [
        "**Question 4**\n",
        "You have a long flowerbed in which some of the plots are planted, and some are not.\n",
        "However, flowers cannot be planted in adjacent plots.\n",
        "Given an integer array flowerbed containing 0's and 1's, where 0 means empty and 1 means not empty, and an integer n, return true if n new flowers can be planted in the flowerbed without violating the no-adjacent-flowers rule and false otherwise.\n",
        "\n",
        "Example 1:\n",
        "Input: flowerbed = [1,0,0,0,1], n = 1\n",
        "Output: true"
      ],
      "metadata": {
        "id": "f0TctQshhjlr"
      }
    },
    {
      "cell_type": "code",
      "source": [
        "def Flowerplant(flowerbed, n):\n",
        "    length = len(flowerbed)\n",
        "    count = 0\n",
        "    i = 0\n",
        "\n",
        "    while i < length:\n",
        "        if flowerbed[i] == 0 and (i == 0 or flowerbed[i - 1] == 0) and (i == length - 1 or flowerbed[i + 1] == 0):\n",
        "            flowerbed[i] = 1\n",
        "            count += 1\n",
        "        i += 1\n",
        "\n",
        "    return count >= n\n",
        "\n",
        "# Test the function\n",
        "flowerbed = [1, 0, 0, 0, 1]\n",
        "n = 1\n",
        "can_plant = Flowerplant(flowerbed, n)\n",
        "print(\"Can plant\", n, \"flowers?\", can_plant)\n"
      ],
      "metadata": {
        "colab": {
          "base_uri": "https://localhost:8080/"
        },
        "id": "Mur01VA4xQeS",
        "outputId": "65032973-b1ce-4a1a-e0c1-4cb4190487f7"
      },
      "execution_count": null,
      "outputs": [
        {
          "output_type": "stream",
          "name": "stdout",
          "text": [
            "Can plant 1 flowers? True\n"
          ]
        }
      ]
    },
    {
      "cell_type": "markdown",
      "source": [
        "**Question 5**\n",
        "Given an integer array nums, find three numbers whose product is maximum and return the maximum product.\n",
        "\n",
        "Example 1:\n",
        "Input: nums = [1,2,3]\n",
        "Output: 6"
      ],
      "metadata": {
        "id": "gUngNFIpgT_J"
      }
    },
    {
      "cell_type": "code",
      "source": [
        "def maximumproduct(nums):\n",
        "    nums.sort()  \n",
        "\n",
        "    return max(nums[-1] * nums[-2] * nums[-3], nums[0] * nums[1] * nums[-1])\n",
        "\n",
        "nums = [1, 2, 3]\n",
        "max_product = maximumproduct(nums)\n",
        "print(\"Maximum product:\", max_product)\n"
      ],
      "metadata": {
        "id": "lz02Z2_RgdfD",
        "colab": {
          "base_uri": "https://localhost:8080/"
        },
        "outputId": "ebed17c3-e256-407e-bed4-53b622bfafed"
      },
      "execution_count": 2,
      "outputs": [
        {
          "output_type": "stream",
          "name": "stdout",
          "text": [
            "Maximum product: 6\n"
          ]
        }
      ]
    },
    {
      "cell_type": "markdown",
      "source": [
        "**Question 6**\n",
        "Given an array of integers nums which is sorted in ascending order, and an integer target,\n",
        "write a function to search target in nums. If target exists, then return its index. Otherwise,\n",
        "return -1.\n",
        "\n",
        "You must write an algorithm with O(log n) runtime complexity.\n",
        "\n",
        "Input: nums = [-1,0,3,5,9,12], target = 9\n",
        "Output: 4\n",
        "\n",
        "Explanation: 9 exists in nums and its index is 4"
      ],
      "metadata": {
        "id": "ZcNRrtXz1epF"
      }
    },
    {
      "cell_type": "code",
      "source": [
        "def targetFinder(nums,target):\n",
        "  if target in nums:\n",
        "    return nums.index(target)\n",
        "  else:\n",
        "    return -1"
      ],
      "metadata": {
        "id": "JSCl14pw1n2L"
      },
      "execution_count": 5,
      "outputs": []
    },
    {
      "cell_type": "code",
      "source": [
        "targetFinder([-1,0,3,5,9,12],9)"
      ],
      "metadata": {
        "colab": {
          "base_uri": "https://localhost:8080/"
        },
        "id": "umU38lp32DkS",
        "outputId": "afce33a0-6332-438b-f575-1f61e7869f3d"
      },
      "execution_count": 4,
      "outputs": [
        {
          "output_type": "execute_result",
          "data": {
            "text/plain": [
              "4"
            ]
          },
          "metadata": {},
          "execution_count": 4
        }
      ]
    },
    {
      "cell_type": "markdown",
      "source": [
        "**Question 7**\n",
        "An array is monotonic if it is either monotone increasing or monotone decreasing.\n",
        "\n",
        "An array nums is monotone increasing if for all i <= j, nums[i] <= nums[j]. An array nums is\n",
        "monotone decreasing if for all i <= j, nums[i] >= nums[j].\n",
        "\n",
        "Given an integer array nums, return true if the given array is monotonic, or false otherwise.\n",
        "\n",
        "Example 1:\n",
        "Input: nums = [1,2,2,3]\n",
        "Output: true"
      ],
      "metadata": {
        "id": "XeK8QndW2TIt"
      }
    },
    {
      "cell_type": "code",
      "source": [
        "def checkmonotonic(nums):\n",
        "    is_increasing = True\n",
        "    is_decreasing = True\n",
        "\n",
        "    for i in range(1, len(nums)):\n",
        "        if nums[i] < nums[i - 1]:\n",
        "            is_increasing = False\n",
        "        if nums[i] > nums[i - 1]:\n",
        "            is_decreasing = False\n",
        "\n",
        "    return is_increasing or is_decreasing\n",
        "\n",
        "\n",
        "# Example usage\n",
        "nums = [1,2,3]\n",
        "result = checkmonotonic(nums)\n",
        "if result:\n",
        "    print(\"The array is monotonic.\")\n",
        "else:\n",
        "    print(\"The array is not monotonic.\")\n"
      ],
      "metadata": {
        "colab": {
          "base_uri": "https://localhost:8080/"
        },
        "id": "XwdcK60g3XdT",
        "outputId": "1686ffad-fe60-4996-fdf2-b37c18231f18"
      },
      "execution_count": 7,
      "outputs": [
        {
          "output_type": "stream",
          "name": "stdout",
          "text": [
            "The array is monotonic.\n"
          ]
        }
      ]
    },
    {
      "cell_type": "markdown",
      "source": [
        "**Question 8**\n",
        "You are given an integer array nums and an integer k.\n",
        "\n",
        "In one operation, you can choose any index i where 0 <= i < nums.length and change nums[i] to nums[i] + x where x is an integer from the range [-k, k]. You can apply this operation at most once for each index i.\n",
        "\n",
        "The score of nums is the difference between the maximum and minimum elements in nums.\n",
        "\n",
        "Return the minimum score of nums after applying the mentioned operation at most once for each index in it.\n",
        "\n",
        "Example 1:\n",
        "Input: nums = [1], k = 0\n",
        "Output: 0\n",
        "\n",
        "Explanation: The score is max(nums) - min(nums) = 1 - 1 = 0"
      ],
      "metadata": {
        "id": "FxhJIi5y3qi2"
      }
    },
    {
      "cell_type": "code",
      "source": [
        "def checkscore(nums, k):\n",
        "    minimum_num = min(nums)\n",
        "    maximum_num = max(nums)\n",
        "    \n",
        "    if maximum_num - minimum_num <= 2 * k:\n",
        "        return 0\n",
        "    \n",
        "    return maximum_num - minimum_num - 2 * k\n",
        "nums = [1]\n",
        "k = 0\n",
        "result = checkscore(nums, k)\n",
        "print(\"Minimum score:\", result)\n"
      ],
      "metadata": {
        "colab": {
          "base_uri": "https://localhost:8080/"
        },
        "id": "Amnfx2aJ31su",
        "outputId": "f5b539af-37c7-4130-b6d2-4a3f8cc05c9f"
      },
      "execution_count": 9,
      "outputs": [
        {
          "output_type": "stream",
          "name": "stdout",
          "text": [
            "Minimum score: 0\n"
          ]
        }
      ]
    }
  ]
}